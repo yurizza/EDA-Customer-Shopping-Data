{
 "cells": [
  {
   "attachments": {},
   "cell_type": "markdown",
   "metadata": {},
   "source": [
    " # Milestone 1\n",
    "\n",
    "- Name  : Cici Yuriza\n",
    "- Batch : HCK-005"
   ]
  },
  {
   "attachments": {},
   "cell_type": "markdown",
   "metadata": {},
   "source": [
    "# Description\n",
    "\n",
    "Objective :\\\n",
    "Untuk meningkatkan pendapatan 100% pada 2024 dengan memanfaatkan strategi marketing dan tim penjualan.\n",
    "\n",
    "Problem Statement :\\\n",
    "Analisis perilaku customers dari tahun 2021 hingga 2023 berdasarkan pengelompokkan tahun.Untuk meraih strategi pemasaran yg tepat sehingga meningkatkan pendapatan 100% tahun 2024. Analisis ini penting agar dapat memasarkan produk kepada customer dengan tepat.\n"
   ]
  },
  {
   "attachments": {},
   "cell_type": "markdown",
   "metadata": {},
   "source": [
    "Penjabaran Masalah dengan metode 5W + 1H :\n",
    "- pengelompokkan data berdasarkan tahun.\n",
    "1. Pendapatan terbesar ada di mall yang mana ?\n",
    "2. bulan apa yg paling bagus untuk melakukan sale ?\n",
    "3. hari apa yang paling bagus untuk memasang iklan (memaksimalkan kemungkinan konsumen membeli produk) ?\n",
    "4. Bagaimana pemilihan pembayaran berdasarkan usia ?\n",
    "5. Apakah usia mempengaruhi tingkat pembelian ?\n",
    "6. Siapakah yang paling banyak bertransaksi(M/F) ?\n"
   ]
  },
  {
   "attachments": {},
   "cell_type": "markdown",
   "metadata": {},
   "source": [
    "## Working Area"
   ]
  },
  {
   "attachments": {},
   "cell_type": "markdown",
   "metadata": {},
   "source": [
    "### Data Loading\n",
    "\n",
    "Sumber data : https://www.kaggle.com/datasets/datascientistanna/customers-dataset"
   ]
  },
  {
   "cell_type": "code",
   "execution_count": 60,
   "metadata": {},
   "outputs": [],
   "source": [
    "# import library\n",
    "import pandas as pd\n",
    "import numpy as np\n",
    "import matplotlib.pyplot as plt\n",
    "import scipy.stats as stats"
   ]
  },
  {
   "cell_type": "code",
   "execution_count": 61,
   "metadata": {},
   "outputs": [],
   "source": [
    "# read data\n",
    "df = pd.read_csv('dataset/customer_shopping_data.csv')"
   ]
  },
  {
   "cell_type": "code",
   "execution_count": 62,
   "metadata": {},
   "outputs": [],
   "source": [
    "pd.set_option('display.max_columns', None)"
   ]
  },
  {
   "cell_type": "code",
   "execution_count": 63,
   "metadata": {},
   "outputs": [
    {
     "data": {
      "text/html": [
       "<div>\n",
       "<style scoped>\n",
       "    .dataframe tbody tr th:only-of-type {\n",
       "        vertical-align: middle;\n",
       "    }\n",
       "\n",
       "    .dataframe tbody tr th {\n",
       "        vertical-align: top;\n",
       "    }\n",
       "\n",
       "    .dataframe thead th {\n",
       "        text-align: right;\n",
       "    }\n",
       "</style>\n",
       "<table border=\"1\" class=\"dataframe\">\n",
       "  <thead>\n",
       "    <tr style=\"text-align: right;\">\n",
       "      <th></th>\n",
       "      <th>invoice_no</th>\n",
       "      <th>customer_id</th>\n",
       "      <th>gender</th>\n",
       "      <th>age</th>\n",
       "      <th>category</th>\n",
       "      <th>quantity</th>\n",
       "      <th>price</th>\n",
       "      <th>payment_method</th>\n",
       "      <th>invoice_date</th>\n",
       "      <th>shopping_mall</th>\n",
       "    </tr>\n",
       "  </thead>\n",
       "  <tbody>\n",
       "    <tr>\n",
       "      <th>0</th>\n",
       "      <td>I138884</td>\n",
       "      <td>C241288</td>\n",
       "      <td>Female</td>\n",
       "      <td>28</td>\n",
       "      <td>Clothing</td>\n",
       "      <td>5</td>\n",
       "      <td>1500.40</td>\n",
       "      <td>Credit Card</td>\n",
       "      <td>5/8/2022</td>\n",
       "      <td>Kanyon</td>\n",
       "    </tr>\n",
       "    <tr>\n",
       "      <th>1</th>\n",
       "      <td>I317333</td>\n",
       "      <td>C111565</td>\n",
       "      <td>Male</td>\n",
       "      <td>21</td>\n",
       "      <td>Shoes</td>\n",
       "      <td>3</td>\n",
       "      <td>1800.51</td>\n",
       "      <td>Debit Card</td>\n",
       "      <td>12/12/2021</td>\n",
       "      <td>Forum Istanbul</td>\n",
       "    </tr>\n",
       "    <tr>\n",
       "      <th>2</th>\n",
       "      <td>I127801</td>\n",
       "      <td>C266599</td>\n",
       "      <td>Male</td>\n",
       "      <td>20</td>\n",
       "      <td>Clothing</td>\n",
       "      <td>1</td>\n",
       "      <td>300.08</td>\n",
       "      <td>Cash</td>\n",
       "      <td>9/11/2021</td>\n",
       "      <td>Metrocity</td>\n",
       "    </tr>\n",
       "    <tr>\n",
       "      <th>3</th>\n",
       "      <td>I173702</td>\n",
       "      <td>C988172</td>\n",
       "      <td>Female</td>\n",
       "      <td>66</td>\n",
       "      <td>Shoes</td>\n",
       "      <td>5</td>\n",
       "      <td>3000.85</td>\n",
       "      <td>Credit Card</td>\n",
       "      <td>16/05/2021</td>\n",
       "      <td>Metropol AVM</td>\n",
       "    </tr>\n",
       "    <tr>\n",
       "      <th>4</th>\n",
       "      <td>I337046</td>\n",
       "      <td>C189076</td>\n",
       "      <td>Female</td>\n",
       "      <td>53</td>\n",
       "      <td>Books</td>\n",
       "      <td>4</td>\n",
       "      <td>60.60</td>\n",
       "      <td>Cash</td>\n",
       "      <td>24/10/2021</td>\n",
       "      <td>Kanyon</td>\n",
       "    </tr>\n",
       "  </tbody>\n",
       "</table>\n",
       "</div>"
      ],
      "text/plain": [
       "  invoice_no customer_id  gender  age  category  quantity    price  \\\n",
       "0    I138884     C241288  Female   28  Clothing         5  1500.40   \n",
       "1    I317333     C111565    Male   21     Shoes         3  1800.51   \n",
       "2    I127801     C266599    Male   20  Clothing         1   300.08   \n",
       "3    I173702     C988172  Female   66     Shoes         5  3000.85   \n",
       "4    I337046     C189076  Female   53     Books         4    60.60   \n",
       "\n",
       "  payment_method invoice_date   shopping_mall  \n",
       "0    Credit Card     5/8/2022          Kanyon  \n",
       "1     Debit Card   12/12/2021  Forum Istanbul  \n",
       "2           Cash    9/11/2021       Metrocity  \n",
       "3    Credit Card   16/05/2021    Metropol AVM  \n",
       "4           Cash   24/10/2021          Kanyon  "
      ]
     },
     "execution_count": 63,
     "metadata": {},
     "output_type": "execute_result"
    }
   ],
   "source": [
    "# menampilkan 5 data teratas\n",
    "df.head()"
   ]
  },
  {
   "cell_type": "code",
   "execution_count": 64,
   "metadata": {},
   "outputs": [
    {
     "data": {
      "text/html": [
       "<div>\n",
       "<style scoped>\n",
       "    .dataframe tbody tr th:only-of-type {\n",
       "        vertical-align: middle;\n",
       "    }\n",
       "\n",
       "    .dataframe tbody tr th {\n",
       "        vertical-align: top;\n",
       "    }\n",
       "\n",
       "    .dataframe thead th {\n",
       "        text-align: right;\n",
       "    }\n",
       "</style>\n",
       "<table border=\"1\" class=\"dataframe\">\n",
       "  <thead>\n",
       "    <tr style=\"text-align: right;\">\n",
       "      <th></th>\n",
       "      <th>invoice_no</th>\n",
       "      <th>customer_id</th>\n",
       "      <th>gender</th>\n",
       "      <th>age</th>\n",
       "      <th>category</th>\n",
       "      <th>quantity</th>\n",
       "      <th>price</th>\n",
       "      <th>payment_method</th>\n",
       "      <th>invoice_date</th>\n",
       "      <th>shopping_mall</th>\n",
       "    </tr>\n",
       "  </thead>\n",
       "  <tbody>\n",
       "    <tr>\n",
       "      <th>99452</th>\n",
       "      <td>I219422</td>\n",
       "      <td>C441542</td>\n",
       "      <td>Female</td>\n",
       "      <td>45</td>\n",
       "      <td>Souvenir</td>\n",
       "      <td>5</td>\n",
       "      <td>58.65</td>\n",
       "      <td>Credit Card</td>\n",
       "      <td>21/09/2022</td>\n",
       "      <td>Kanyon</td>\n",
       "    </tr>\n",
       "    <tr>\n",
       "      <th>99453</th>\n",
       "      <td>I325143</td>\n",
       "      <td>C569580</td>\n",
       "      <td>Male</td>\n",
       "      <td>27</td>\n",
       "      <td>Food &amp; Beverage</td>\n",
       "      <td>2</td>\n",
       "      <td>10.46</td>\n",
       "      <td>Cash</td>\n",
       "      <td>22/09/2021</td>\n",
       "      <td>Forum Istanbul</td>\n",
       "    </tr>\n",
       "    <tr>\n",
       "      <th>99454</th>\n",
       "      <td>I824010</td>\n",
       "      <td>C103292</td>\n",
       "      <td>Male</td>\n",
       "      <td>63</td>\n",
       "      <td>Food &amp; Beverage</td>\n",
       "      <td>2</td>\n",
       "      <td>10.46</td>\n",
       "      <td>Debit Card</td>\n",
       "      <td>28/03/2021</td>\n",
       "      <td>Metrocity</td>\n",
       "    </tr>\n",
       "    <tr>\n",
       "      <th>99455</th>\n",
       "      <td>I702964</td>\n",
       "      <td>C800631</td>\n",
       "      <td>Male</td>\n",
       "      <td>56</td>\n",
       "      <td>Technology</td>\n",
       "      <td>4</td>\n",
       "      <td>4200.00</td>\n",
       "      <td>Cash</td>\n",
       "      <td>16/03/2021</td>\n",
       "      <td>Istinye Park</td>\n",
       "    </tr>\n",
       "    <tr>\n",
       "      <th>99456</th>\n",
       "      <td>I232867</td>\n",
       "      <td>C273973</td>\n",
       "      <td>Female</td>\n",
       "      <td>36</td>\n",
       "      <td>Souvenir</td>\n",
       "      <td>3</td>\n",
       "      <td>35.19</td>\n",
       "      <td>Credit Card</td>\n",
       "      <td>15/10/2022</td>\n",
       "      <td>Mall of Istanbul</td>\n",
       "    </tr>\n",
       "  </tbody>\n",
       "</table>\n",
       "</div>"
      ],
      "text/plain": [
       "      invoice_no customer_id  gender  age         category  quantity    price  \\\n",
       "99452    I219422     C441542  Female   45         Souvenir         5    58.65   \n",
       "99453    I325143     C569580    Male   27  Food & Beverage         2    10.46   \n",
       "99454    I824010     C103292    Male   63  Food & Beverage         2    10.46   \n",
       "99455    I702964     C800631    Male   56       Technology         4  4200.00   \n",
       "99456    I232867     C273973  Female   36         Souvenir         3    35.19   \n",
       "\n",
       "      payment_method invoice_date     shopping_mall  \n",
       "99452    Credit Card   21/09/2022            Kanyon  \n",
       "99453           Cash   22/09/2021    Forum Istanbul  \n",
       "99454     Debit Card   28/03/2021         Metrocity  \n",
       "99455           Cash   16/03/2021      Istinye Park  \n",
       "99456    Credit Card   15/10/2022  Mall of Istanbul  "
      ]
     },
     "execution_count": 64,
     "metadata": {},
     "output_type": "execute_result"
    }
   ],
   "source": [
    "# menampilkan 5 data terakhir\n",
    "df.tail()"
   ]
  },
  {
   "attachments": {},
   "cell_type": "markdown",
   "metadata": {},
   "source": [
    "### Data Cleaning"
   ]
  },
  {
   "cell_type": "code",
   "execution_count": 65,
   "metadata": {},
   "outputs": [
    {
     "name": "stdout",
     "output_type": "stream",
     "text": [
      "<class 'pandas.core.frame.DataFrame'>\n",
      "RangeIndex: 99457 entries, 0 to 99456\n",
      "Data columns (total 10 columns):\n",
      " #   Column          Non-Null Count  Dtype  \n",
      "---  ------          --------------  -----  \n",
      " 0   invoice_no      99457 non-null  object \n",
      " 1   customer_id     99457 non-null  object \n",
      " 2   gender          99457 non-null  object \n",
      " 3   age             99457 non-null  int64  \n",
      " 4   category        99457 non-null  object \n",
      " 5   quantity        99457 non-null  int64  \n",
      " 6   price           99457 non-null  float64\n",
      " 7   payment_method  99457 non-null  object \n",
      " 8   invoice_date    99457 non-null  object \n",
      " 9   shopping_mall   99457 non-null  object \n",
      "dtypes: float64(1), int64(2), object(7)\n",
      "memory usage: 7.6+ MB\n"
     ]
    }
   ],
   "source": [
    "# menampilkan informasi data\n",
    "df.info()"
   ]
  },
  {
   "cell_type": "code",
   "execution_count": 66,
   "metadata": {},
   "outputs": [
    {
     "data": {
      "text/html": [
       "<div>\n",
       "<style scoped>\n",
       "    .dataframe tbody tr th:only-of-type {\n",
       "        vertical-align: middle;\n",
       "    }\n",
       "\n",
       "    .dataframe tbody tr th {\n",
       "        vertical-align: top;\n",
       "    }\n",
       "\n",
       "    .dataframe thead th {\n",
       "        text-align: right;\n",
       "    }\n",
       "</style>\n",
       "<table border=\"1\" class=\"dataframe\">\n",
       "  <thead>\n",
       "    <tr style=\"text-align: right;\">\n",
       "      <th></th>\n",
       "      <th>count</th>\n",
       "      <th>mean</th>\n",
       "      <th>std</th>\n",
       "      <th>min</th>\n",
       "      <th>25%</th>\n",
       "      <th>50%</th>\n",
       "      <th>75%</th>\n",
       "      <th>max</th>\n",
       "    </tr>\n",
       "  </thead>\n",
       "  <tbody>\n",
       "    <tr>\n",
       "      <th>age</th>\n",
       "      <td>99457.0</td>\n",
       "      <td>43.427089</td>\n",
       "      <td>14.990054</td>\n",
       "      <td>18.00</td>\n",
       "      <td>30.00</td>\n",
       "      <td>43.0</td>\n",
       "      <td>56.00</td>\n",
       "      <td>69.0</td>\n",
       "    </tr>\n",
       "    <tr>\n",
       "      <th>quantity</th>\n",
       "      <td>99457.0</td>\n",
       "      <td>3.003429</td>\n",
       "      <td>1.413025</td>\n",
       "      <td>1.00</td>\n",
       "      <td>2.00</td>\n",
       "      <td>3.0</td>\n",
       "      <td>4.00</td>\n",
       "      <td>5.0</td>\n",
       "    </tr>\n",
       "    <tr>\n",
       "      <th>price</th>\n",
       "      <td>99457.0</td>\n",
       "      <td>689.256321</td>\n",
       "      <td>941.184567</td>\n",
       "      <td>5.23</td>\n",
       "      <td>45.45</td>\n",
       "      <td>203.3</td>\n",
       "      <td>1200.32</td>\n",
       "      <td>5250.0</td>\n",
       "    </tr>\n",
       "  </tbody>\n",
       "</table>\n",
       "</div>"
      ],
      "text/plain": [
       "            count        mean         std    min    25%    50%      75%  \\\n",
       "age       99457.0   43.427089   14.990054  18.00  30.00   43.0    56.00   \n",
       "quantity  99457.0    3.003429    1.413025   1.00   2.00    3.0     4.00   \n",
       "price     99457.0  689.256321  941.184567   5.23  45.45  203.3  1200.32   \n",
       "\n",
       "             max  \n",
       "age         69.0  \n",
       "quantity     5.0  \n",
       "price     5250.0  "
      ]
     },
     "execution_count": 66,
     "metadata": {},
     "output_type": "execute_result"
    }
   ],
   "source": [
    "df.describe().T"
   ]
  },
  {
   "attachments": {},
   "cell_type": "markdown",
   "metadata": {},
   "source": [
    "Tidak ada nilai minimum yang < 0"
   ]
  },
  {
   "cell_type": "code",
   "execution_count": 67,
   "metadata": {},
   "outputs": [
    {
     "data": {
      "text/plain": [
       "0"
      ]
     },
     "execution_count": 67,
     "metadata": {},
     "output_type": "execute_result"
    }
   ],
   "source": [
    "# cek duplicate data\n",
    "df.duplicated().sum()"
   ]
  },
  {
   "attachments": {},
   "cell_type": "markdown",
   "metadata": {},
   "source": [
    "tidak ada data yang duplikat."
   ]
  },
  {
   "cell_type": "code",
   "execution_count": 68,
   "metadata": {},
   "outputs": [],
   "source": [
    "# fungsi menghitung jumlah missing value setiap column\n",
    "def show_missing(df):\n",
    "    '''Calculate any missing value in every column.\n",
    "    |parameter dataframe\n",
    "    |return a dataframe with sorted data from the most missing values'''\n",
    "    \n",
    "    variables = []\n",
    "    dtypes = []\n",
    "    count = []\n",
    "    unique = []\n",
    "    missing = []\n",
    "    # calculate every column (data type, row length, total unique value and NaN values)\n",
    "    for item in df.columns: \n",
    "        variables.append(item)\n",
    "        dtypes.append(df[item].dtype)\n",
    "        count.append(len(df[item]))\n",
    "        unique.append(len(df[item].unique()))\n",
    "        missing.append(df[item].isna().sum())\n",
    "\n",
    "    df_missing = pd.DataFrame({\n",
    "        'variable': variables, \n",
    "        'dtype': dtypes,\n",
    "        'count': count,\n",
    "        'unique': unique,\n",
    "        'missing': missing\n",
    "    })    \n",
    "        \n",
    "    return df_missing.sort_values('missing',ascending=False)"
   ]
  },
  {
   "cell_type": "code",
   "execution_count": 69,
   "metadata": {},
   "outputs": [
    {
     "data": {
      "text/html": [
       "<div>\n",
       "<style scoped>\n",
       "    .dataframe tbody tr th:only-of-type {\n",
       "        vertical-align: middle;\n",
       "    }\n",
       "\n",
       "    .dataframe tbody tr th {\n",
       "        vertical-align: top;\n",
       "    }\n",
       "\n",
       "    .dataframe thead th {\n",
       "        text-align: right;\n",
       "    }\n",
       "</style>\n",
       "<table border=\"1\" class=\"dataframe\">\n",
       "  <thead>\n",
       "    <tr style=\"text-align: right;\">\n",
       "      <th></th>\n",
       "      <th>variable</th>\n",
       "      <th>dtype</th>\n",
       "      <th>count</th>\n",
       "      <th>unique</th>\n",
       "      <th>missing</th>\n",
       "    </tr>\n",
       "  </thead>\n",
       "  <tbody>\n",
       "    <tr>\n",
       "      <th>0</th>\n",
       "      <td>invoice_no</td>\n",
       "      <td>object</td>\n",
       "      <td>99457</td>\n",
       "      <td>99457</td>\n",
       "      <td>0</td>\n",
       "    </tr>\n",
       "    <tr>\n",
       "      <th>1</th>\n",
       "      <td>customer_id</td>\n",
       "      <td>object</td>\n",
       "      <td>99457</td>\n",
       "      <td>99457</td>\n",
       "      <td>0</td>\n",
       "    </tr>\n",
       "    <tr>\n",
       "      <th>2</th>\n",
       "      <td>gender</td>\n",
       "      <td>object</td>\n",
       "      <td>99457</td>\n",
       "      <td>2</td>\n",
       "      <td>0</td>\n",
       "    </tr>\n",
       "    <tr>\n",
       "      <th>3</th>\n",
       "      <td>age</td>\n",
       "      <td>int64</td>\n",
       "      <td>99457</td>\n",
       "      <td>52</td>\n",
       "      <td>0</td>\n",
       "    </tr>\n",
       "    <tr>\n",
       "      <th>4</th>\n",
       "      <td>category</td>\n",
       "      <td>object</td>\n",
       "      <td>99457</td>\n",
       "      <td>8</td>\n",
       "      <td>0</td>\n",
       "    </tr>\n",
       "    <tr>\n",
       "      <th>5</th>\n",
       "      <td>quantity</td>\n",
       "      <td>int64</td>\n",
       "      <td>99457</td>\n",
       "      <td>5</td>\n",
       "      <td>0</td>\n",
       "    </tr>\n",
       "    <tr>\n",
       "      <th>6</th>\n",
       "      <td>price</td>\n",
       "      <td>float64</td>\n",
       "      <td>99457</td>\n",
       "      <td>40</td>\n",
       "      <td>0</td>\n",
       "    </tr>\n",
       "    <tr>\n",
       "      <th>7</th>\n",
       "      <td>payment_method</td>\n",
       "      <td>object</td>\n",
       "      <td>99457</td>\n",
       "      <td>3</td>\n",
       "      <td>0</td>\n",
       "    </tr>\n",
       "    <tr>\n",
       "      <th>8</th>\n",
       "      <td>invoice_date</td>\n",
       "      <td>object</td>\n",
       "      <td>99457</td>\n",
       "      <td>797</td>\n",
       "      <td>0</td>\n",
       "    </tr>\n",
       "    <tr>\n",
       "      <th>9</th>\n",
       "      <td>shopping_mall</td>\n",
       "      <td>object</td>\n",
       "      <td>99457</td>\n",
       "      <td>10</td>\n",
       "      <td>0</td>\n",
       "    </tr>\n",
       "  </tbody>\n",
       "</table>\n",
       "</div>"
      ],
      "text/plain": [
       "         variable    dtype  count  unique  missing\n",
       "0      invoice_no   object  99457   99457        0\n",
       "1     customer_id   object  99457   99457        0\n",
       "2          gender   object  99457       2        0\n",
       "3             age    int64  99457      52        0\n",
       "4        category   object  99457       8        0\n",
       "5        quantity    int64  99457       5        0\n",
       "6           price  float64  99457      40        0\n",
       "7  payment_method   object  99457       3        0\n",
       "8    invoice_date   object  99457     797        0\n",
       "9   shopping_mall   object  99457      10        0"
      ]
     },
     "execution_count": 69,
     "metadata": {},
     "output_type": "execute_result"
    }
   ],
   "source": [
    "show_missing(df)"
   ]
  },
  {
   "attachments": {},
   "cell_type": "markdown",
   "metadata": {},
   "source": [
    "Tidak ada missing value"
   ]
  },
  {
   "attachments": {},
   "cell_type": "markdown",
   "metadata": {},
   "source": [
    "Cek non-standard missing value"
   ]
  },
  {
   "cell_type": "code",
   "execution_count": 70,
   "metadata": {},
   "outputs": [
    {
     "data": {
      "text/plain": [
       "{'invoice_no': 0,\n",
       " 'customer_id': 0,\n",
       " 'gender': 0,\n",
       " 'age': 0,\n",
       " 'category': 0,\n",
       " 'quantity': 0,\n",
       " 'price': 0,\n",
       " 'payment_method': 0,\n",
       " 'invoice_date': 0,\n",
       " 'shopping_mall': 0}"
      ]
     },
     "execution_count": 70,
     "metadata": {},
     "output_type": "execute_result"
    }
   ],
   "source": [
    "# Dilakukan pengecekan apakah terdapat non-standard value pada setiap baris di masing-masing kolom\n",
    "\n",
    "dic = {}\n",
    "\n",
    "for i in list(df.columns):\n",
    "  dic[i] = 0\n",
    "  for j in df[i]:\n",
    "    if j in ['N/A', '--', '-', 'Null']:\n",
    "      dic[i] = dic[i] + 1\n",
    "\n",
    "dic"
   ]
  },
  {
   "attachments": {},
   "cell_type": "markdown",
   "metadata": {},
   "source": [
    "Tidak ada non-standard missing value"
   ]
  },
  {
   "cell_type": "code",
   "execution_count": 71,
   "metadata": {},
   "outputs": [
    {
     "name": "stderr",
     "output_type": "stream",
     "text": [
      "C:\\Users\\ASUS\\AppData\\Local\\Temp\\ipykernel_11396\\4290732610.py:2: UserWarning: Parsing dates in DD/MM/YYYY format when dayfirst=False (the default) was specified. This may lead to inconsistently parsed dates! Specify a format to ensure consistent parsing.\n",
      "  df['invoice_date'] = pd.to_datetime(df['invoice_date'])\n"
     ]
    },
    {
     "data": {
      "text/plain": [
       "0       2022-05-08\n",
       "1       2021-12-12\n",
       "2       2021-09-11\n",
       "3       2021-05-16\n",
       "4       2021-10-24\n",
       "           ...    \n",
       "99452   2022-09-21\n",
       "99453   2021-09-22\n",
       "99454   2021-03-28\n",
       "99455   2021-03-16\n",
       "99456   2022-10-15\n",
       "Name: invoice_date, Length: 99457, dtype: datetime64[ns]"
      ]
     },
     "execution_count": 71,
     "metadata": {},
     "output_type": "execute_result"
    }
   ],
   "source": [
    "# change date type invoice_date into datetime\n",
    "df['invoice_date'] = pd.to_datetime(df['invoice_date'])\n",
    "df['invoice_date']"
   ]
  },
  {
   "cell_type": "code",
   "execution_count": 72,
   "metadata": {},
   "outputs": [
    {
     "name": "stdout",
     "output_type": "stream",
     "text": [
      "<class 'pandas.core.frame.DataFrame'>\n",
      "RangeIndex: 99457 entries, 0 to 99456\n",
      "Data columns (total 10 columns):\n",
      " #   Column          Non-Null Count  Dtype         \n",
      "---  ------          --------------  -----         \n",
      " 0   invoice_no      99457 non-null  object        \n",
      " 1   customer_id     99457 non-null  object        \n",
      " 2   gender          99457 non-null  object        \n",
      " 3   age             99457 non-null  int64         \n",
      " 4   category        99457 non-null  object        \n",
      " 5   quantity        99457 non-null  int64         \n",
      " 6   price           99457 non-null  float64       \n",
      " 7   payment_method  99457 non-null  object        \n",
      " 8   invoice_date    99457 non-null  datetime64[ns]\n",
      " 9   shopping_mall   99457 non-null  object        \n",
      "dtypes: datetime64[ns](1), float64(1), int64(2), object(6)\n",
      "memory usage: 7.6+ MB\n"
     ]
    }
   ],
   "source": [
    "df.info()"
   ]
  },
  {
   "cell_type": "code",
   "execution_count": 73,
   "metadata": {},
   "outputs": [],
   "source": [
    "def unique_and_value_count(df):\n",
    "    '''function for calculate how many unique value in column and value count of every unique\n",
    "    |parameter dataframe'''\n",
    "\n",
    "    col_names=[col for col in df.columns if df[col].dtype == \"object\"]\n",
    "    \n",
    "    for col in col_names:\n",
    "        if df[col].nunique() < 15: # unique less than 15\n",
    "            print('Unique   ',len(df[col].unique()))\n",
    "            print(df[col].value_counts())\n",
    "            print(\"--\"*10)"
   ]
  },
  {
   "cell_type": "code",
   "execution_count": 74,
   "metadata": {},
   "outputs": [
    {
     "name": "stdout",
     "output_type": "stream",
     "text": [
      "Unique    2\n",
      "Female    59482\n",
      "Male      39975\n",
      "Name: gender, dtype: int64\n",
      "--------------------\n",
      "Unique    8\n",
      "Clothing           34487\n",
      "Cosmetics          15097\n",
      "Food & Beverage    14776\n",
      "Toys               10087\n",
      "Shoes              10034\n",
      "Souvenir            4999\n",
      "Technology          4996\n",
      "Books               4981\n",
      "Name: category, dtype: int64\n",
      "--------------------\n",
      "Unique    3\n",
      "Cash           44447\n",
      "Credit Card    34931\n",
      "Debit Card     20079\n",
      "Name: payment_method, dtype: int64\n",
      "--------------------\n",
      "Unique    10\n",
      "Mall of Istanbul     19943\n",
      "Kanyon               19823\n",
      "Metrocity            15011\n",
      "Metropol AVM         10161\n",
      "Istinye Park          9781\n",
      "Zorlu Center          5075\n",
      "Cevahir AVM           4991\n",
      "Forum Istanbul        4947\n",
      "Viaport Outlet        4914\n",
      "Emaar Square Mall     4811\n",
      "Name: shopping_mall, dtype: int64\n",
      "--------------------\n"
     ]
    }
   ],
   "source": [
    "unique_and_value_count(df)"
   ]
  },
  {
   "attachments": {},
   "cell_type": "markdown",
   "metadata": {},
   "source": [
    "### Analisis dan Perhitungan"
   ]
  },
  {
   "attachments": {},
   "cell_type": "markdown",
   "metadata": {},
   "source": [
    "#### Menambahkan kolom :\n",
    "1. pendapatan, didapat dari nilai quantity * price\n",
    "2. mengkategorikan usia (age) kedalam kategori \"young, middle, dan old\"\n",
    "3. menambahkan kolom hari, bulan dan tahun."
   ]
  },
  {
   "cell_type": "code",
   "execution_count": 75,
   "metadata": {},
   "outputs": [],
   "source": [
    "# menambahkan kolom pendapatan yang diisi dengan quantity * price\n",
    "\n",
    "pendapatan = []\n",
    "for i in range(len(df)) :\n",
    "    pendapatan.append(df['quantity'][i]*df['price'][i])\n",
    "\n",
    "df['income'] = pendapatan"
   ]
  },
  {
   "cell_type": "code",
   "execution_count": 76,
   "metadata": {},
   "outputs": [],
   "source": [
    "# membuat fungsi pengelompokan usia\n",
    "def age_category(df):\n",
    "    '''Function for cotegorize age.\n",
    "    |parameter dataframe\n",
    "    |return list of age category.\n",
    "    '''\n",
    "    age = []\n",
    "\n",
    "    for i in range(len(df)):\n",
    "        if df['age'][i] > 50 : #more than 50\n",
    "            age.append('old')\n",
    "        elif df['age'][i] > 30 : #more than 30\n",
    "            age.append('middle')\n",
    "        else : # less than or equal to 30\n",
    "            age.append('young')\n",
    "    return age"
   ]
  },
  {
   "cell_type": "code",
   "execution_count": 77,
   "metadata": {},
   "outputs": [],
   "source": [
    "# membuat fungsi convert tanggal menjadi hari\n",
    "def date_to_day(df):\n",
    "    '''function for convert date to day\n",
    "    |parameter dataframe\n",
    "    |return list of day'''\n",
    "    day = []\n",
    "    for i in range(len(df)):\n",
    "        day.append(df['invoice_date'][i].strftime(\"%A\")) # convert to day\n",
    "    return day"
   ]
  },
  {
   "cell_type": "code",
   "execution_count": 78,
   "metadata": {},
   "outputs": [],
   "source": [
    "# menambahkan kolom kategori usia\n",
    "df['age_category'] = age_category(df)"
   ]
  },
  {
   "cell_type": "code",
   "execution_count": 79,
   "metadata": {},
   "outputs": [],
   "source": [
    "# menambahkan kolom year and month berdasarkan invoice_date\n",
    "df['year'],df['month'] = df['invoice_date'].dt.year, df['invoice_date'].dt.month"
   ]
  },
  {
   "cell_type": "code",
   "execution_count": 80,
   "metadata": {},
   "outputs": [],
   "source": [
    "# menambahkan kolom day berdasrkan invoice_date\n",
    "df['day'] = date_to_day(df)"
   ]
  },
  {
   "cell_type": "code",
   "execution_count": 81,
   "metadata": {},
   "outputs": [
    {
     "data": {
      "text/html": [
       "<div>\n",
       "<style scoped>\n",
       "    .dataframe tbody tr th:only-of-type {\n",
       "        vertical-align: middle;\n",
       "    }\n",
       "\n",
       "    .dataframe tbody tr th {\n",
       "        vertical-align: top;\n",
       "    }\n",
       "\n",
       "    .dataframe thead th {\n",
       "        text-align: right;\n",
       "    }\n",
       "</style>\n",
       "<table border=\"1\" class=\"dataframe\">\n",
       "  <thead>\n",
       "    <tr style=\"text-align: right;\">\n",
       "      <th></th>\n",
       "      <th>invoice_no</th>\n",
       "      <th>customer_id</th>\n",
       "      <th>gender</th>\n",
       "      <th>age</th>\n",
       "      <th>category</th>\n",
       "      <th>quantity</th>\n",
       "      <th>price</th>\n",
       "      <th>payment_method</th>\n",
       "      <th>invoice_date</th>\n",
       "      <th>shopping_mall</th>\n",
       "      <th>income</th>\n",
       "      <th>age_category</th>\n",
       "      <th>year</th>\n",
       "      <th>month</th>\n",
       "      <th>day</th>\n",
       "    </tr>\n",
       "  </thead>\n",
       "  <tbody>\n",
       "    <tr>\n",
       "      <th>0</th>\n",
       "      <td>I138884</td>\n",
       "      <td>C241288</td>\n",
       "      <td>Female</td>\n",
       "      <td>28</td>\n",
       "      <td>Clothing</td>\n",
       "      <td>5</td>\n",
       "      <td>1500.40</td>\n",
       "      <td>Credit Card</td>\n",
       "      <td>2022-05-08</td>\n",
       "      <td>Kanyon</td>\n",
       "      <td>7502.00</td>\n",
       "      <td>young</td>\n",
       "      <td>2022</td>\n",
       "      <td>5</td>\n",
       "      <td>Sunday</td>\n",
       "    </tr>\n",
       "    <tr>\n",
       "      <th>1</th>\n",
       "      <td>I317333</td>\n",
       "      <td>C111565</td>\n",
       "      <td>Male</td>\n",
       "      <td>21</td>\n",
       "      <td>Shoes</td>\n",
       "      <td>3</td>\n",
       "      <td>1800.51</td>\n",
       "      <td>Debit Card</td>\n",
       "      <td>2021-12-12</td>\n",
       "      <td>Forum Istanbul</td>\n",
       "      <td>5401.53</td>\n",
       "      <td>young</td>\n",
       "      <td>2021</td>\n",
       "      <td>12</td>\n",
       "      <td>Sunday</td>\n",
       "    </tr>\n",
       "    <tr>\n",
       "      <th>2</th>\n",
       "      <td>I127801</td>\n",
       "      <td>C266599</td>\n",
       "      <td>Male</td>\n",
       "      <td>20</td>\n",
       "      <td>Clothing</td>\n",
       "      <td>1</td>\n",
       "      <td>300.08</td>\n",
       "      <td>Cash</td>\n",
       "      <td>2021-09-11</td>\n",
       "      <td>Metrocity</td>\n",
       "      <td>300.08</td>\n",
       "      <td>young</td>\n",
       "      <td>2021</td>\n",
       "      <td>9</td>\n",
       "      <td>Saturday</td>\n",
       "    </tr>\n",
       "    <tr>\n",
       "      <th>3</th>\n",
       "      <td>I173702</td>\n",
       "      <td>C988172</td>\n",
       "      <td>Female</td>\n",
       "      <td>66</td>\n",
       "      <td>Shoes</td>\n",
       "      <td>5</td>\n",
       "      <td>3000.85</td>\n",
       "      <td>Credit Card</td>\n",
       "      <td>2021-05-16</td>\n",
       "      <td>Metropol AVM</td>\n",
       "      <td>15004.25</td>\n",
       "      <td>old</td>\n",
       "      <td>2021</td>\n",
       "      <td>5</td>\n",
       "      <td>Sunday</td>\n",
       "    </tr>\n",
       "    <tr>\n",
       "      <th>4</th>\n",
       "      <td>I337046</td>\n",
       "      <td>C189076</td>\n",
       "      <td>Female</td>\n",
       "      <td>53</td>\n",
       "      <td>Books</td>\n",
       "      <td>4</td>\n",
       "      <td>60.60</td>\n",
       "      <td>Cash</td>\n",
       "      <td>2021-10-24</td>\n",
       "      <td>Kanyon</td>\n",
       "      <td>242.40</td>\n",
       "      <td>old</td>\n",
       "      <td>2021</td>\n",
       "      <td>10</td>\n",
       "      <td>Sunday</td>\n",
       "    </tr>\n",
       "  </tbody>\n",
       "</table>\n",
       "</div>"
      ],
      "text/plain": [
       "  invoice_no customer_id  gender  age  category  quantity    price  \\\n",
       "0    I138884     C241288  Female   28  Clothing         5  1500.40   \n",
       "1    I317333     C111565    Male   21     Shoes         3  1800.51   \n",
       "2    I127801     C266599    Male   20  Clothing         1   300.08   \n",
       "3    I173702     C988172  Female   66     Shoes         5  3000.85   \n",
       "4    I337046     C189076  Female   53     Books         4    60.60   \n",
       "\n",
       "  payment_method invoice_date   shopping_mall    income age_category  year  \\\n",
       "0    Credit Card   2022-05-08          Kanyon   7502.00        young  2022   \n",
       "1     Debit Card   2021-12-12  Forum Istanbul   5401.53        young  2021   \n",
       "2           Cash   2021-09-11       Metrocity    300.08        young  2021   \n",
       "3    Credit Card   2021-05-16    Metropol AVM  15004.25          old  2021   \n",
       "4           Cash   2021-10-24          Kanyon    242.40          old  2021   \n",
       "\n",
       "   month       day  \n",
       "0      5    Sunday  \n",
       "1     12    Sunday  \n",
       "2      9  Saturday  \n",
       "3      5    Sunday  \n",
       "4     10    Sunday  "
      ]
     },
     "execution_count": 81,
     "metadata": {},
     "output_type": "execute_result"
    }
   ],
   "source": [
    "# menampilkan 5 data teratas\n",
    "df.head()"
   ]
  },
  {
   "attachments": {},
   "cell_type": "markdown",
   "metadata": {},
   "source": [
    "#### 1. Pendapatan terbesar ada di mall yang mana ?\n",
    "1.1 dari tahun 2021-2023\\\n",
    "1.2 untuk masing-masing tahun\\\n",
    "1.2.1 Check perbedaan pendapatan setiap tahun dengan melihat pendapatan perbulan"
   ]
  },
  {
   "cell_type": "code",
   "execution_count": 82,
   "metadata": {},
   "outputs": [
    {
     "data": {
      "text/html": [
       "<div>\n",
       "<style scoped>\n",
       "    .dataframe tbody tr th:only-of-type {\n",
       "        vertical-align: middle;\n",
       "    }\n",
       "\n",
       "    .dataframe tbody tr th {\n",
       "        vertical-align: top;\n",
       "    }\n",
       "\n",
       "    .dataframe thead th {\n",
       "        text-align: right;\n",
       "    }\n",
       "</style>\n",
       "<table border=\"1\" class=\"dataframe\">\n",
       "  <thead>\n",
       "    <tr style=\"text-align: right;\">\n",
       "      <th></th>\n",
       "      <th>year</th>\n",
       "      <th>income</th>\n",
       "    </tr>\n",
       "  </thead>\n",
       "  <tbody>\n",
       "    <tr>\n",
       "      <th>1</th>\n",
       "      <td>2022</td>\n",
       "      <td>1.154368e+08</td>\n",
       "    </tr>\n",
       "    <tr>\n",
       "      <th>0</th>\n",
       "      <td>2021</td>\n",
       "      <td>1.145606e+08</td>\n",
       "    </tr>\n",
       "    <tr>\n",
       "      <th>2</th>\n",
       "      <td>2023</td>\n",
       "      <td>2.150841e+07</td>\n",
       "    </tr>\n",
       "  </tbody>\n",
       "</table>\n",
       "</div>"
      ],
      "text/plain": [
       "   year        income\n",
       "1  2022  1.154368e+08\n",
       "0  2021  1.145606e+08\n",
       "2  2023  2.150841e+07"
      ]
     },
     "execution_count": 82,
     "metadata": {},
     "output_type": "execute_result"
    }
   ],
   "source": [
    "# pendapatan setiap tahun\n",
    "df.groupby('year')['income'].sum().reset_index().sort_values(by='income', ascending=False)"
   ]
  },
  {
   "cell_type": "code",
   "execution_count": 83,
   "metadata": {},
   "outputs": [
    {
     "data": {
      "text/html": [
       "<div>\n",
       "<style scoped>\n",
       "    .dataframe tbody tr th:only-of-type {\n",
       "        vertical-align: middle;\n",
       "    }\n",
       "\n",
       "    .dataframe tbody tr th {\n",
       "        vertical-align: top;\n",
       "    }\n",
       "\n",
       "    .dataframe thead th {\n",
       "        text-align: right;\n",
       "    }\n",
       "</style>\n",
       "<table border=\"1\" class=\"dataframe\">\n",
       "  <thead>\n",
       "    <tr style=\"text-align: right;\">\n",
       "      <th></th>\n",
       "      <th>shopping_mall</th>\n",
       "      <th>income</th>\n",
       "    </tr>\n",
       "  </thead>\n",
       "  <tbody>\n",
       "    <tr>\n",
       "      <th>5</th>\n",
       "      <td>Mall of Istanbul</td>\n",
       "      <td>50872481.68</td>\n",
       "    </tr>\n",
       "    <tr>\n",
       "      <th>4</th>\n",
       "      <td>Kanyon</td>\n",
       "      <td>50554231.10</td>\n",
       "    </tr>\n",
       "    <tr>\n",
       "      <th>6</th>\n",
       "      <td>Metrocity</td>\n",
       "      <td>37302787.33</td>\n",
       "    </tr>\n",
       "    <tr>\n",
       "      <th>7</th>\n",
       "      <td>Metropol AVM</td>\n",
       "      <td>25379913.19</td>\n",
       "    </tr>\n",
       "    <tr>\n",
       "      <th>3</th>\n",
       "      <td>Istinye Park</td>\n",
       "      <td>24618827.68</td>\n",
       "    </tr>\n",
       "    <tr>\n",
       "      <th>9</th>\n",
       "      <td>Zorlu Center</td>\n",
       "      <td>12901053.82</td>\n",
       "    </tr>\n",
       "    <tr>\n",
       "      <th>0</th>\n",
       "      <td>Cevahir AVM</td>\n",
       "      <td>12645138.20</td>\n",
       "    </tr>\n",
       "    <tr>\n",
       "      <th>8</th>\n",
       "      <td>Viaport Outlet</td>\n",
       "      <td>12521339.72</td>\n",
       "    </tr>\n",
       "    <tr>\n",
       "      <th>1</th>\n",
       "      <td>Emaar Square Mall</td>\n",
       "      <td>12406100.29</td>\n",
       "    </tr>\n",
       "    <tr>\n",
       "      <th>2</th>\n",
       "      <td>Forum Istanbul</td>\n",
       "      <td>12303921.24</td>\n",
       "    </tr>\n",
       "  </tbody>\n",
       "</table>\n",
       "</div>"
      ],
      "text/plain": [
       "       shopping_mall       income\n",
       "5   Mall of Istanbul  50872481.68\n",
       "4             Kanyon  50554231.10\n",
       "6          Metrocity  37302787.33\n",
       "7       Metropol AVM  25379913.19\n",
       "3       Istinye Park  24618827.68\n",
       "9       Zorlu Center  12901053.82\n",
       "0        Cevahir AVM  12645138.20\n",
       "8     Viaport Outlet  12521339.72\n",
       "1  Emaar Square Mall  12406100.29\n",
       "2     Forum Istanbul  12303921.24"
      ]
     },
     "execution_count": 83,
     "metadata": {},
     "output_type": "execute_result"
    }
   ],
   "source": [
    "# pendapatan dari 2021 - 2023 untuk setiap mall\n",
    "(df.groupby(['shopping_mall'])['income'].sum().reset_index().sort_values(by='income',ascending=False))"
   ]
  },
  {
   "cell_type": "code",
   "execution_count": 148,
   "metadata": {},
   "outputs": [
    {
     "data": {
      "image/png": "[encoded data removed]",
      "text/plain": [
       "<Figure size 640x480 with 1 Axes>"
      ]
     },
     "metadata": {},
     "output_type": "display_data"
    }
   ],
   "source": [
    "# melihat pendapatan terbesar\n",
    "(df.groupby(['shopping_mall'])['income'].sum()).plot(kind='bar', ylabel='income ($)')\n",
    "plt.xticks(rotation=45, ha='right')\n",
    "plt.title('Income Shopping Mall (2021-2023)')\n",
    "plt.show()"
   ]
  },
  {
   "attachments": {},
   "cell_type": "markdown",
   "metadata": {},
   "source": [
    "`mall paling banyak mendapat income sepanjang tahun 2021-2023 adalah mall of istanbul.`"
   ]
  },
  {
   "cell_type": "code",
   "execution_count": 85,
   "metadata": {},
   "outputs": [
    {
     "data": {
      "text/html": [
       "<div>\n",
       "<style scoped>\n",
       "    .dataframe tbody tr th:only-of-type {\n",
       "        vertical-align: middle;\n",
       "    }\n",
       "\n",
       "    .dataframe tbody tr th {\n",
       "        vertical-align: top;\n",
       "    }\n",
       "\n",
       "    .dataframe thead th {\n",
       "        text-align: right;\n",
       "    }\n",
       "</style>\n",
       "<table border=\"1\" class=\"dataframe\">\n",
       "  <thead>\n",
       "    <tr style=\"text-align: right;\">\n",
       "      <th></th>\n",
       "      <th>year</th>\n",
       "      <th>shopping_mall</th>\n",
       "      <th>income</th>\n",
       "    </tr>\n",
       "  </thead>\n",
       "  <tbody>\n",
       "    <tr>\n",
       "      <th>15</th>\n",
       "      <td>2022</td>\n",
       "      <td>Mall of Istanbul</td>\n",
       "      <td>23410362.30</td>\n",
       "    </tr>\n",
       "    <tr>\n",
       "      <th>5</th>\n",
       "      <td>2021</td>\n",
       "      <td>Mall of Istanbul</td>\n",
       "      <td>23269156.43</td>\n",
       "    </tr>\n",
       "    <tr>\n",
       "      <th>4</th>\n",
       "      <td>2021</td>\n",
       "      <td>Kanyon</td>\n",
       "      <td>23168216.05</td>\n",
       "    </tr>\n",
       "    <tr>\n",
       "      <th>14</th>\n",
       "      <td>2022</td>\n",
       "      <td>Kanyon</td>\n",
       "      <td>22922200.33</td>\n",
       "    </tr>\n",
       "    <tr>\n",
       "      <th>16</th>\n",
       "      <td>2022</td>\n",
       "      <td>Metrocity</td>\n",
       "      <td>17244618.86</td>\n",
       "    </tr>\n",
       "    <tr>\n",
       "      <th>6</th>\n",
       "      <td>2021</td>\n",
       "      <td>Metrocity</td>\n",
       "      <td>16665693.56</td>\n",
       "    </tr>\n",
       "    <tr>\n",
       "      <th>7</th>\n",
       "      <td>2021</td>\n",
       "      <td>Metropol AVM</td>\n",
       "      <td>11795485.33</td>\n",
       "    </tr>\n",
       "    <tr>\n",
       "      <th>13</th>\n",
       "      <td>2022</td>\n",
       "      <td>Istinye Park</td>\n",
       "      <td>11469526.74</td>\n",
       "    </tr>\n",
       "    <tr>\n",
       "      <th>17</th>\n",
       "      <td>2022</td>\n",
       "      <td>Metropol AVM</td>\n",
       "      <td>11375841.00</td>\n",
       "    </tr>\n",
       "    <tr>\n",
       "      <th>3</th>\n",
       "      <td>2021</td>\n",
       "      <td>Istinye Park</td>\n",
       "      <td>11153570.10</td>\n",
       "    </tr>\n",
       "    <tr>\n",
       "      <th>19</th>\n",
       "      <td>2022</td>\n",
       "      <td>Zorlu Center</td>\n",
       "      <td>6037789.44</td>\n",
       "    </tr>\n",
       "    <tr>\n",
       "      <th>1</th>\n",
       "      <td>2021</td>\n",
       "      <td>Emaar Square Mall</td>\n",
       "      <td>5981425.65</td>\n",
       "    </tr>\n",
       "    <tr>\n",
       "      <th>18</th>\n",
       "      <td>2022</td>\n",
       "      <td>Viaport Outlet</td>\n",
       "      <td>5920500.33</td>\n",
       "    </tr>\n",
       "    <tr>\n",
       "      <th>10</th>\n",
       "      <td>2022</td>\n",
       "      <td>Cevahir AVM</td>\n",
       "      <td>5831795.35</td>\n",
       "    </tr>\n",
       "    <tr>\n",
       "      <th>12</th>\n",
       "      <td>2022</td>\n",
       "      <td>Forum Istanbul</td>\n",
       "      <td>5800267.22</td>\n",
       "    </tr>\n",
       "    <tr>\n",
       "      <th>0</th>\n",
       "      <td>2021</td>\n",
       "      <td>Cevahir AVM</td>\n",
       "      <td>5758828.55</td>\n",
       "    </tr>\n",
       "    <tr>\n",
       "      <th>9</th>\n",
       "      <td>2021</td>\n",
       "      <td>Zorlu Center</td>\n",
       "      <td>5650067.23</td>\n",
       "    </tr>\n",
       "    <tr>\n",
       "      <th>8</th>\n",
       "      <td>2021</td>\n",
       "      <td>Viaport Outlet</td>\n",
       "      <td>5572378.72</td>\n",
       "    </tr>\n",
       "    <tr>\n",
       "      <th>2</th>\n",
       "      <td>2021</td>\n",
       "      <td>Forum Istanbul</td>\n",
       "      <td>5545748.97</td>\n",
       "    </tr>\n",
       "    <tr>\n",
       "      <th>11</th>\n",
       "      <td>2022</td>\n",
       "      <td>Emaar Square Mall</td>\n",
       "      <td>5423912.51</td>\n",
       "    </tr>\n",
       "    <tr>\n",
       "      <th>24</th>\n",
       "      <td>2023</td>\n",
       "      <td>Kanyon</td>\n",
       "      <td>4463814.72</td>\n",
       "    </tr>\n",
       "    <tr>\n",
       "      <th>25</th>\n",
       "      <td>2023</td>\n",
       "      <td>Mall of Istanbul</td>\n",
       "      <td>4192962.95</td>\n",
       "    </tr>\n",
       "    <tr>\n",
       "      <th>26</th>\n",
       "      <td>2023</td>\n",
       "      <td>Metrocity</td>\n",
       "      <td>3392474.91</td>\n",
       "    </tr>\n",
       "    <tr>\n",
       "      <th>27</th>\n",
       "      <td>2023</td>\n",
       "      <td>Metropol AVM</td>\n",
       "      <td>2208586.86</td>\n",
       "    </tr>\n",
       "    <tr>\n",
       "      <th>23</th>\n",
       "      <td>2023</td>\n",
       "      <td>Istinye Park</td>\n",
       "      <td>1995730.84</td>\n",
       "    </tr>\n",
       "    <tr>\n",
       "      <th>29</th>\n",
       "      <td>2023</td>\n",
       "      <td>Zorlu Center</td>\n",
       "      <td>1213197.15</td>\n",
       "    </tr>\n",
       "    <tr>\n",
       "      <th>20</th>\n",
       "      <td>2023</td>\n",
       "      <td>Cevahir AVM</td>\n",
       "      <td>1054514.30</td>\n",
       "    </tr>\n",
       "    <tr>\n",
       "      <th>28</th>\n",
       "      <td>2023</td>\n",
       "      <td>Viaport Outlet</td>\n",
       "      <td>1028460.67</td>\n",
       "    </tr>\n",
       "    <tr>\n",
       "      <th>21</th>\n",
       "      <td>2023</td>\n",
       "      <td>Emaar Square Mall</td>\n",
       "      <td>1000762.13</td>\n",
       "    </tr>\n",
       "    <tr>\n",
       "      <th>22</th>\n",
       "      <td>2023</td>\n",
       "      <td>Forum Istanbul</td>\n",
       "      <td>957905.05</td>\n",
       "    </tr>\n",
       "  </tbody>\n",
       "</table>\n",
       "</div>"
      ],
      "text/plain": [
       "    year      shopping_mall       income\n",
       "15  2022   Mall of Istanbul  23410362.30\n",
       "5   2021   Mall of Istanbul  23269156.43\n",
       "4   2021             Kanyon  23168216.05\n",
       "14  2022             Kanyon  22922200.33\n",
       "16  2022          Metrocity  17244618.86\n",
       "6   2021          Metrocity  16665693.56\n",
       "7   2021       Metropol AVM  11795485.33\n",
       "13  2022       Istinye Park  11469526.74\n",
       "17  2022       Metropol AVM  11375841.00\n",
       "3   2021       Istinye Park  11153570.10\n",
       "19  2022       Zorlu Center   6037789.44\n",
       "1   2021  Emaar Square Mall   5981425.65\n",
       "18  2022     Viaport Outlet   5920500.33\n",
       "10  2022        Cevahir AVM   5831795.35\n",
       "12  2022     Forum Istanbul   5800267.22\n",
       "0   2021        Cevahir AVM   5758828.55\n",
       "9   2021       Zorlu Center   5650067.23\n",
       "8   2021     Viaport Outlet   5572378.72\n",
       "2   2021     Forum Istanbul   5545748.97\n",
       "11  2022  Emaar Square Mall   5423912.51\n",
       "24  2023             Kanyon   4463814.72\n",
       "25  2023   Mall of Istanbul   4192962.95\n",
       "26  2023          Metrocity   3392474.91\n",
       "27  2023       Metropol AVM   2208586.86\n",
       "23  2023       Istinye Park   1995730.84\n",
       "29  2023       Zorlu Center   1213197.15\n",
       "20  2023        Cevahir AVM   1054514.30\n",
       "28  2023     Viaport Outlet   1028460.67\n",
       "21  2023  Emaar Square Mall   1000762.13\n",
       "22  2023     Forum Istanbul    957905.05"
      ]
     },
     "execution_count": 85,
     "metadata": {},
     "output_type": "execute_result"
    }
   ],
   "source": [
    "# pendapatan setiap tahun\n",
    "df.groupby(['year','shopping_mall'])['income'].sum().reset_index().sort_values(by='income',ascending=False)"
   ]
  },
  {
   "cell_type": "code",
   "execution_count": 147,
   "metadata": {},
   "outputs": [
    {
     "data": {
      "image/png": "[encoded data removed]",
      "text/plain": [
       "<Figure size 1000x500 with 1 Axes>"
      ]
     },
     "metadata": {},
     "output_type": "display_data"
    }
   ],
   "source": [
    "# show graph for income \n",
    "ax = (df.groupby(['shopping_mall', 'year'])['income'].sum()).unstack(level=0).plot(kind='line',figsize=(10,5),ylabel='income $')\n",
    "\n",
    "\n",
    "# Shrink current axis's height by 10% on the bottom\n",
    "box = ax.get_position()\n",
    "ax.set_position([box.x0, box.y0 + box.height * 0.1,\n",
    "                 box.width, box.height * 0.9])\n",
    "\n",
    "# Put a legend below current axis\n",
    "ax.legend(loc='upper center', bbox_to_anchor=(0.5, -0.05),\n",
    "          fancybox=True, shadow=True, ncol=5)\n",
    "\n",
    "plt.title('Income Shopping Mall')\n",
    "\n",
    "plt.show()"
   ]
  },
  {
   "attachments": {},
   "cell_type": "markdown",
   "metadata": {},
   "source": [
    "`Pada tahun 2021 dan 2022 income paling banyak diperoleh dari mall of istanbul.\n",
    "Pada tahun 2023 mall kanyon mendapat income yang paling besar.`\\\n",
    "Namun dapat dilihat bahwa terjadi penurunan pendapatan yang sangat signifikan ditahun 2023. Lets check what happen!"
   ]
  },
  {
   "cell_type": "code",
   "execution_count": 146,
   "metadata": {},
   "outputs": [
    {
     "data": {
      "image/png": "[encoded data removed]",
      "text/plain": [
       "<Figure size 1000x300 with 1 Axes>"
      ]
     },
     "metadata": {},
     "output_type": "display_data"
    }
   ],
   "source": [
    "# line plot using pandas\n",
    "df.groupby(['month','year'])['income'].sum().unstack(level=1).plot(kind='line', figsize=(10,3),ylabel='income $')\n",
    "plt.title('Income per month')\n",
    "plt.show()"
   ]
  },
  {
   "attachments": {},
   "cell_type": "markdown",
   "metadata": {},
   "source": [
    "Ternyata pendapatan sangat jauh berbeda untuk setiap bulan antara tahun 2023 dengan 2022 dan 2021."
   ]
  },
  {
   "attachments": {},
   "cell_type": "markdown",
   "metadata": {},
   "source": [
    "#### 2. bulan apa yg paling bagus untuk sale ?"
   ]
  },
  {
   "cell_type": "code",
   "execution_count": 88,
   "metadata": {},
   "outputs": [
    {
     "data": {
      "text/html": [
       "<div>\n",
       "<style scoped>\n",
       "    .dataframe tbody tr th:only-of-type {\n",
       "        vertical-align: middle;\n",
       "    }\n",
       "\n",
       "    .dataframe tbody tr th {\n",
       "        vertical-align: top;\n",
       "    }\n",
       "\n",
       "    .dataframe thead th {\n",
       "        text-align: right;\n",
       "    }\n",
       "</style>\n",
       "<table border=\"1\" class=\"dataframe\">\n",
       "  <thead>\n",
       "    <tr style=\"text-align: right;\">\n",
       "      <th></th>\n",
       "      <th>month</th>\n",
       "      <th>income</th>\n",
       "    </tr>\n",
       "  </thead>\n",
       "  <tbody>\n",
       "    <tr>\n",
       "      <th>0</th>\n",
       "      <td>1</td>\n",
       "      <td>25.755677</td>\n",
       "    </tr>\n",
       "    <tr>\n",
       "      <th>1</th>\n",
       "      <td>2</td>\n",
       "      <td>23.980068</td>\n",
       "    </tr>\n",
       "    <tr>\n",
       "      <th>2</th>\n",
       "      <td>3</td>\n",
       "      <td>20.826197</td>\n",
       "    </tr>\n",
       "    <tr>\n",
       "      <th>3</th>\n",
       "      <td>4</td>\n",
       "      <td>20.360575</td>\n",
       "    </tr>\n",
       "    <tr>\n",
       "      <th>4</th>\n",
       "      <td>5</td>\n",
       "      <td>20.608278</td>\n",
       "    </tr>\n",
       "    <tr>\n",
       "      <th>5</th>\n",
       "      <td>6</td>\n",
       "      <td>20.344057</td>\n",
       "    </tr>\n",
       "    <tr>\n",
       "      <th>6</th>\n",
       "      <td>7</td>\n",
       "      <td>20.721537</td>\n",
       "    </tr>\n",
       "    <tr>\n",
       "      <th>7</th>\n",
       "      <td>8</td>\n",
       "      <td>19.812562</td>\n",
       "    </tr>\n",
       "    <tr>\n",
       "      <th>8</th>\n",
       "      <td>9</td>\n",
       "      <td>19.248109</td>\n",
       "    </tr>\n",
       "    <tr>\n",
       "      <th>9</th>\n",
       "      <td>10</td>\n",
       "      <td>21.049008</td>\n",
       "    </tr>\n",
       "    <tr>\n",
       "      <th>10</th>\n",
       "      <td>11</td>\n",
       "      <td>18.700197</td>\n",
       "    </tr>\n",
       "    <tr>\n",
       "      <th>11</th>\n",
       "      <td>12</td>\n",
       "      <td>20.099530</td>\n",
       "    </tr>\n",
       "  </tbody>\n",
       "</table>\n",
       "</div>"
      ],
      "text/plain": [
       "    month     income\n",
       "0       1  25.755677\n",
       "1       2  23.980068\n",
       "2       3  20.826197\n",
       "3       4  20.360575\n",
       "4       5  20.608278\n",
       "5       6  20.344057\n",
       "6       7  20.721537\n",
       "7       8  19.812562\n",
       "8       9  19.248109\n",
       "9      10  21.049008\n",
       "10     11  18.700197\n",
       "11     12  20.099530"
      ]
     },
     "execution_count": 88,
     "metadata": {},
     "output_type": "execute_result"
    }
   ],
   "source": [
    "# dataframe pendapatan perbulan\n",
    "df_month = df.groupby(['month'])['income'].sum().reset_index()\n",
    "df_month['income'] = df_month['income']/1000000 #income menjadi permillion dollar\n",
    "df_month"
   ]
  },
  {
   "cell_type": "code",
   "execution_count": 149,
   "metadata": {},
   "outputs": [
    {
     "data": {
      "text/plain": [
       "Text(0.5, 1.0, 'Income per Month')"
      ]
     },
     "execution_count": 149,
     "metadata": {},
     "output_type": "execute_result"
    },
    {
     "data": {
      "image/png": "[encoded data removed]",
      "text/plain": [
       "<Figure size 1000x300 with 1 Axes>"
      ]
     },
     "metadata": {},
     "output_type": "display_data"
    }
   ],
   "source": [
    "# pendapatan per bulan\n",
    "df_month.plot(kind='line',x='month',y='income',xlabel='Month',ylabel='Million $', figsize=(10,3))\n",
    "plt.title('Income per Month')"
   ]
  },
  {
   "cell_type": "code",
   "execution_count": 90,
   "metadata": {},
   "outputs": [
    {
     "data": {
      "text/plain": [
       "month  category       \n",
       "1      Books                 87233.70\n",
       "       Clothing           11598692.16\n",
       "       Cosmetics            731920.66\n",
       "       Food & Beverage       85892.29\n",
       "       Shoes               6715302.13\n",
       "                             ...     \n",
       "12     Food & Beverage       70406.26\n",
       "       Shoes               5217277.81\n",
       "       Souvenir              49512.33\n",
       "       Technology          4508700.00\n",
       "       Toys                 345318.40\n",
       "Name: income, Length: 96, dtype: float64"
      ]
     },
     "execution_count": 90,
     "metadata": {},
     "output_type": "execute_result"
    }
   ],
   "source": [
    "# menyimpan data setiap bulan untuk setiap kategori\n",
    "df_month_cat = df.groupby(['month','category'])['income'].sum()\n",
    "df_month_cat"
   ]
  },
  {
   "cell_type": "code",
   "execution_count": 156,
   "metadata": {},
   "outputs": [
    {
     "data": {
      "image/png": "[encoded data removed]",
      "text/plain": [
       "<Figure size 1000x500 with 1 Axes>"
      ]
     },
     "metadata": {},
     "output_type": "display_data"
    }
   ],
   "source": [
    "# melihat pendapatan setiap category setiap bulan\n",
    "ax = df_month_cat.unstack(level=1).plot(kind='line', figsize=(10,5),ylabel='Income $')\n",
    "plt.title('Income per Category every month')\n",
    "\n",
    "# Shrink current axis's height by 10% on the bottom\n",
    "box = ax.get_position()\n",
    "ax.set_position([box.x0, box.y0 + box.height * 0.1,\n",
    "                 box.width, box.height * 0.9])\n",
    "\n",
    "# Put a legend below current axis\n",
    "ax.legend(loc='upper center', bbox_to_anchor=(0.5, -0.05),\n",
    "          fancybox=True, shadow=True, ncol=5)\n",
    "\n",
    "plt.show()"
   ]
  },
  {
   "attachments": {},
   "cell_type": "markdown",
   "metadata": {},
   "source": [
    "1. Bulan yang paling bagus untuk melakukan sale adalah bulan Januari.\n",
    "2. Category yang paling tinggi pendapatannya adalah clothing"
   ]
  },
  {
   "attachments": {},
   "cell_type": "markdown",
   "metadata": {},
   "source": [
    "#### 3. hari apa yang paling bagus untuk memasang iklan (memaksimalkan kemungkinan konsumen membeli produk) ?"
   ]
  },
  {
   "cell_type": "code",
   "execution_count": 92,
   "metadata": {},
   "outputs": [
    {
     "data": {
      "text/html": [
       "<div>\n",
       "<style scoped>\n",
       "    .dataframe tbody tr th:only-of-type {\n",
       "        vertical-align: middle;\n",
       "    }\n",
       "\n",
       "    .dataframe tbody tr th {\n",
       "        vertical-align: top;\n",
       "    }\n",
       "\n",
       "    .dataframe thead th {\n",
       "        text-align: right;\n",
       "    }\n",
       "</style>\n",
       "<table border=\"1\" class=\"dataframe\">\n",
       "  <thead>\n",
       "    <tr style=\"text-align: right;\">\n",
       "      <th></th>\n",
       "      <th>income</th>\n",
       "    </tr>\n",
       "    <tr>\n",
       "      <th>day</th>\n",
       "      <th></th>\n",
       "    </tr>\n",
       "  </thead>\n",
       "  <tbody>\n",
       "    <tr>\n",
       "      <th>Friday</th>\n",
       "      <td>36.461539</td>\n",
       "    </tr>\n",
       "    <tr>\n",
       "      <th>Monday</th>\n",
       "      <td>37.578624</td>\n",
       "    </tr>\n",
       "    <tr>\n",
       "      <th>Saturday</th>\n",
       "      <td>36.509127</td>\n",
       "    </tr>\n",
       "    <tr>\n",
       "      <th>Sunday</th>\n",
       "      <td>34.130253</td>\n",
       "    </tr>\n",
       "    <tr>\n",
       "      <th>Thursday</th>\n",
       "      <td>35.679669</td>\n",
       "    </tr>\n",
       "    <tr>\n",
       "      <th>Tuesday</th>\n",
       "      <td>35.510654</td>\n",
       "    </tr>\n",
       "    <tr>\n",
       "      <th>Wednesday</th>\n",
       "      <td>35.635928</td>\n",
       "    </tr>\n",
       "  </tbody>\n",
       "</table>\n",
       "</div>"
      ],
      "text/plain": [
       "              income\n",
       "day                 \n",
       "Friday     36.461539\n",
       "Monday     37.578624\n",
       "Saturday   36.509127\n",
       "Sunday     34.130253\n",
       "Thursday   35.679669\n",
       "Tuesday    35.510654\n",
       "Wednesday  35.635928"
      ]
     },
     "execution_count": 92,
     "metadata": {},
     "output_type": "execute_result"
    }
   ],
   "source": [
    "# lihat pendapatan paling banyak berdasarkan hari\n",
    "df_day = df.groupby('day')['income'].sum().reset_index()\n",
    "df_day['income'] = df_day['income']/1000000 # per million dollar\n",
    "df_day.set_index('day',inplace=True)\n",
    "df_day"
   ]
  },
  {
   "cell_type": "code",
   "execution_count": 93,
   "metadata": {},
   "outputs": [
    {
     "data": {
      "image/png": "[encoded data removed]",
      "text/plain": [
       "<Figure size 640x480 with 1 Axes>"
      ]
     },
     "metadata": {},
     "output_type": "display_data"
    }
   ],
   "source": [
    "ax = df_day.plot(kind='pie',y='income', autopct='%.2f%%', legend=False)\n",
    "ax.set_title('Percentage Income per Day')\n",
    "ax.set_ylabel(None)\n",
    "plt.show()"
   ]
  },
  {
   "attachments": {},
   "cell_type": "markdown",
   "metadata": {},
   "source": [
    "Hari yang paling tinggi pendapatannya adalah _Monday_ sehingga dapat memperbanyak iklan pada hari tersebut."
   ]
  },
  {
   "attachments": {},
   "cell_type": "markdown",
   "metadata": {},
   "source": [
    "#### 4. Bagaimana pemilihan pembayaran berdasarkan usia ?"
   ]
  },
  {
   "cell_type": "code",
   "execution_count": 94,
   "metadata": {},
   "outputs": [
    {
     "data": {
      "text/html": [
       "<div>\n",
       "<style scoped>\n",
       "    .dataframe tbody tr th:only-of-type {\n",
       "        vertical-align: middle;\n",
       "    }\n",
       "\n",
       "    .dataframe tbody tr th {\n",
       "        vertical-align: top;\n",
       "    }\n",
       "\n",
       "    .dataframe thead th {\n",
       "        text-align: right;\n",
       "    }\n",
       "</style>\n",
       "<table border=\"1\" class=\"dataframe\">\n",
       "  <thead>\n",
       "    <tr style=\"text-align: right;\">\n",
       "      <th></th>\n",
       "      <th>payment_method</th>\n",
       "      <th>income</th>\n",
       "    </tr>\n",
       "  </thead>\n",
       "  <tbody>\n",
       "    <tr>\n",
       "      <th>0</th>\n",
       "      <td>Cash</td>\n",
       "      <td>1.128322e+08</td>\n",
       "    </tr>\n",
       "    <tr>\n",
       "      <th>1</th>\n",
       "      <td>Credit Card</td>\n",
       "      <td>8.807712e+07</td>\n",
       "    </tr>\n",
       "    <tr>\n",
       "      <th>2</th>\n",
       "      <td>Debit Card</td>\n",
       "      <td>5.059643e+07</td>\n",
       "    </tr>\n",
       "  </tbody>\n",
       "</table>\n",
       "</div>"
      ],
      "text/plain": [
       "  payment_method        income\n",
       "0           Cash  1.128322e+08\n",
       "1    Credit Card  8.807712e+07\n",
       "2     Debit Card  5.059643e+07"
      ]
     },
     "execution_count": 94,
     "metadata": {},
     "output_type": "execute_result"
    }
   ],
   "source": [
    "# melihat pendapatan berdasarkan metode pembayaran\n",
    "payment_method = (df.groupby('payment_method')['income'].sum().reset_index())\n",
    "payment_method"
   ]
  },
  {
   "cell_type": "code",
   "execution_count": 95,
   "metadata": {},
   "outputs": [
    {
     "data": {
      "text/plain": [
       "Text(0.5, 1.0, 'Diagram Payment Method')"
      ]
     },
     "execution_count": 95,
     "metadata": {},
     "output_type": "execute_result"
    },
    {
     "data": {
      "image/png": "[encoded data removed]",
      "text/plain": [
       "<Figure size 300x300 with 1 Axes>"
      ]
     },
     "metadata": {},
     "output_type": "display_data"
    }
   ],
   "source": [
    "# pie chart payment method\n",
    "fig = plt.figure(figsize=(3,3))\n",
    "ax = plt.axes()\n",
    "ax.pie(payment_method.income, labels = payment_method.payment_method, autopct='%1.0f%%'\n",
    "       ,explode=(0.1,0,0))\n",
    "ax.set_title('Diagram Payment Method')"
   ]
  },
  {
   "attachments": {},
   "cell_type": "markdown",
   "metadata": {},
   "source": [
    "Cash merupakan metode pembayaran yang paling banyak digunakan hingga mencapai 45% dari jumlah transaksi."
   ]
  },
  {
   "cell_type": "code",
   "execution_count": 96,
   "metadata": {},
   "outputs": [
    {
     "data": {
      "text/html": [
       "<div>\n",
       "<style scoped>\n",
       "    .dataframe tbody tr th:only-of-type {\n",
       "        vertical-align: middle;\n",
       "    }\n",
       "\n",
       "    .dataframe tbody tr th {\n",
       "        vertical-align: top;\n",
       "    }\n",
       "\n",
       "    .dataframe thead th {\n",
       "        text-align: right;\n",
       "    }\n",
       "</style>\n",
       "<table border=\"1\" class=\"dataframe\">\n",
       "  <thead>\n",
       "    <tr style=\"text-align: right;\">\n",
       "      <th></th>\n",
       "      <th>age_category</th>\n",
       "      <th>payment_method</th>\n",
       "      <th>invoice_no</th>\n",
       "    </tr>\n",
       "  </thead>\n",
       "  <tbody>\n",
       "    <tr>\n",
       "      <th>0</th>\n",
       "      <td>middle</td>\n",
       "      <td>Cash</td>\n",
       "      <td>17082</td>\n",
       "    </tr>\n",
       "    <tr>\n",
       "      <th>1</th>\n",
       "      <td>middle</td>\n",
       "      <td>Credit Card</td>\n",
       "      <td>13471</td>\n",
       "    </tr>\n",
       "    <tr>\n",
       "      <th>2</th>\n",
       "      <td>middle</td>\n",
       "      <td>Debit Card</td>\n",
       "      <td>7779</td>\n",
       "    </tr>\n",
       "    <tr>\n",
       "      <th>3</th>\n",
       "      <td>old</td>\n",
       "      <td>Cash</td>\n",
       "      <td>16188</td>\n",
       "    </tr>\n",
       "    <tr>\n",
       "      <th>4</th>\n",
       "      <td>old</td>\n",
       "      <td>Credit Card</td>\n",
       "      <td>12675</td>\n",
       "    </tr>\n",
       "    <tr>\n",
       "      <th>5</th>\n",
       "      <td>old</td>\n",
       "      <td>Debit Card</td>\n",
       "      <td>7238</td>\n",
       "    </tr>\n",
       "    <tr>\n",
       "      <th>6</th>\n",
       "      <td>young</td>\n",
       "      <td>Cash</td>\n",
       "      <td>11177</td>\n",
       "    </tr>\n",
       "    <tr>\n",
       "      <th>7</th>\n",
       "      <td>young</td>\n",
       "      <td>Credit Card</td>\n",
       "      <td>8785</td>\n",
       "    </tr>\n",
       "    <tr>\n",
       "      <th>8</th>\n",
       "      <td>young</td>\n",
       "      <td>Debit Card</td>\n",
       "      <td>5062</td>\n",
       "    </tr>\n",
       "  </tbody>\n",
       "</table>\n",
       "</div>"
      ],
      "text/plain": [
       "  age_category payment_method  invoice_no\n",
       "0       middle           Cash       17082\n",
       "1       middle    Credit Card       13471\n",
       "2       middle     Debit Card        7779\n",
       "3          old           Cash       16188\n",
       "4          old    Credit Card       12675\n",
       "5          old     Debit Card        7238\n",
       "6        young           Cash       11177\n",
       "7        young    Credit Card        8785\n",
       "8        young     Debit Card        5062"
      ]
     },
     "execution_count": 96,
     "metadata": {},
     "output_type": "execute_result"
    }
   ],
   "source": [
    "# melihat hubungan antara age category dengan payment method\n",
    "(df.groupby(['age_category','payment_method'])[['invoice_no']].count().reset_index())"
   ]
  },
  {
   "cell_type": "code",
   "execution_count": 144,
   "metadata": {},
   "outputs": [
    {
     "data": {
      "text/plain": [
       "(array([0, 1, 2]),\n",
       " [Text(0, 0, 'middle'), Text(1, 0, 'old'), Text(2, 0, 'young')])"
      ]
     },
     "execution_count": 144,
     "metadata": {},
     "output_type": "execute_result"
    },
    {
     "data": {
      "image/png": "[encoded data removed]",
      "text/plain": [
       "<Figure size 640x480 with 1 Axes>"
      ]
     },
     "metadata": {},
     "output_type": "display_data"
    }
   ],
   "source": [
    "# plot hubungan antara age category dengan payment method\n",
    "(df.groupby(['age_category','payment_method'])[['invoice_no']].count()).unstack(level=1).plot(kind='bar')\n",
    "plt.ylabel('Total Transaction')\n",
    "plt.xticks(rotation=0)"
   ]
  },
  {
   "attachments": {},
   "cell_type": "markdown",
   "metadata": {},
   "source": [
    "`age dengan category young, middle dan old paling banyak menggunakan metode pembayaran cash.`\\\n",
    "Semua kategori usia paling sedikit menggunakan debit card kemudian credit card."
   ]
  },
  {
   "attachments": {},
   "cell_type": "markdown",
   "metadata": {},
   "source": [
    "#### 5. Apakah usia mempengaruhi tingkat pembelian ?"
   ]
  },
  {
   "cell_type": "code",
   "execution_count": 98,
   "metadata": {},
   "outputs": [],
   "source": [
    "# menghitung jumlah transaksi, jumlah item, dan pendapatan berdasarkan kategori usia\n",
    "df_age = df.groupby('age_category')[['invoice_no','income','quantity']].agg({'invoice_no':'count','quantity':'sum','income':'sum'}).reset_index().sort_values(by='invoice_no', ascending=False)"
   ]
  },
  {
   "cell_type": "code",
   "execution_count": 99,
   "metadata": {},
   "outputs": [
    {
     "data": {
      "text/html": [
       "<div>\n",
       "<style scoped>\n",
       "    .dataframe tbody tr th:only-of-type {\n",
       "        vertical-align: middle;\n",
       "    }\n",
       "\n",
       "    .dataframe tbody tr th {\n",
       "        vertical-align: top;\n",
       "    }\n",
       "\n",
       "    .dataframe thead th {\n",
       "        text-align: right;\n",
       "    }\n",
       "</style>\n",
       "<table border=\"1\" class=\"dataframe\">\n",
       "  <thead>\n",
       "    <tr style=\"text-align: right;\">\n",
       "      <th></th>\n",
       "      <th>age_category</th>\n",
       "      <th>invoice_no</th>\n",
       "      <th>quantity</th>\n",
       "      <th>income</th>\n",
       "    </tr>\n",
       "  </thead>\n",
       "  <tbody>\n",
       "    <tr>\n",
       "      <th>0</th>\n",
       "      <td>middle</td>\n",
       "      <td>38332</td>\n",
       "      <td>115006</td>\n",
       "      <td>97150259.90</td>\n",
       "    </tr>\n",
       "    <tr>\n",
       "      <th>1</th>\n",
       "      <td>old</td>\n",
       "      <td>36101</td>\n",
       "      <td>108534</td>\n",
       "      <td>91308132.24</td>\n",
       "    </tr>\n",
       "    <tr>\n",
       "      <th>2</th>\n",
       "      <td>young</td>\n",
       "      <td>25024</td>\n",
       "      <td>75172</td>\n",
       "      <td>63047402.11</td>\n",
       "    </tr>\n",
       "  </tbody>\n",
       "</table>\n",
       "</div>"
      ],
      "text/plain": [
       "  age_category  invoice_no  quantity       income\n",
       "0       middle       38332    115006  97150259.90\n",
       "1          old       36101    108534  91308132.24\n",
       "2        young       25024     75172  63047402.11"
      ]
     },
     "execution_count": 99,
     "metadata": {},
     "output_type": "execute_result"
    }
   ],
   "source": [
    "df_age"
   ]
  },
  {
   "cell_type": "code",
   "execution_count": 100,
   "metadata": {},
   "outputs": [
    {
     "data": {
      "text/plain": [
       "Text(0.5, 1.0, 'Diagram Jumlah transaksi')"
      ]
     },
     "execution_count": 100,
     "metadata": {},
     "output_type": "execute_result"
    },
    {
     "data": {
      "image/png": "[encoded data removed]",
      "text/plain": [
       "<Figure size 300x300 with 1 Axes>"
      ]
     },
     "metadata": {},
     "output_type": "display_data"
    }
   ],
   "source": [
    "# pie chart\n",
    "fig = plt.figure(figsize=(3,3))\n",
    "ax = plt.axes()\n",
    "ax.pie(df_age.invoice_no, labels = df_age.age_category, autopct='%.2f%%'\n",
    "       ,explode=(0.05,0,0))\n",
    "ax.set_title('Total Transaction')"
   ]
  },
  {
   "attachments": {},
   "cell_type": "markdown",
   "metadata": {},
   "source": [
    "`usia middle paling banyak melakukan transaksi. kemudian old dan terakhir young`."
   ]
  },
  {
   "attachments": {},
   "cell_type": "markdown",
   "metadata": {},
   "source": [
    "#### 6. Siapakah yang paling banyak bertransaksi(M/F) ?\n",
    "\n",
    "6.1 Category apa yang paling banyak dibeli ?"
   ]
  },
  {
   "cell_type": "code",
   "execution_count": 101,
   "metadata": {},
   "outputs": [
    {
     "data": {
      "text/html": [
       "<div>\n",
       "<style scoped>\n",
       "    .dataframe tbody tr th:only-of-type {\n",
       "        vertical-align: middle;\n",
       "    }\n",
       "\n",
       "    .dataframe tbody tr th {\n",
       "        vertical-align: top;\n",
       "    }\n",
       "\n",
       "    .dataframe thead th {\n",
       "        text-align: right;\n",
       "    }\n",
       "</style>\n",
       "<table border=\"1\" class=\"dataframe\">\n",
       "  <thead>\n",
       "    <tr style=\"text-align: right;\">\n",
       "      <th></th>\n",
       "      <th>gender</th>\n",
       "      <th>invoice_no</th>\n",
       "      <th>quantity</th>\n",
       "      <th>income</th>\n",
       "    </tr>\n",
       "  </thead>\n",
       "  <tbody>\n",
       "    <tr>\n",
       "      <th>0</th>\n",
       "      <td>Female</td>\n",
       "      <td>59482</td>\n",
       "      <td>178659</td>\n",
       "      <td>1.502071e+08</td>\n",
       "    </tr>\n",
       "    <tr>\n",
       "      <th>1</th>\n",
       "      <td>Male</td>\n",
       "      <td>39975</td>\n",
       "      <td>120053</td>\n",
       "      <td>1.012987e+08</td>\n",
       "    </tr>\n",
       "  </tbody>\n",
       "</table>\n",
       "</div>"
      ],
      "text/plain": [
       "   gender  invoice_no  quantity        income\n",
       "0  Female       59482    178659  1.502071e+08\n",
       "1    Male       39975    120053  1.012987e+08"
      ]
     },
     "execution_count": 101,
     "metadata": {},
     "output_type": "execute_result"
    }
   ],
   "source": [
    "# menghitung quantity dan pendapatan berdasarkan gender\n",
    "df.groupby('gender')[['quantity','income','invoice_no']].agg({'invoice_no':'count','quantity':'sum', 'income':'sum'}).reset_index()"
   ]
  },
  {
   "attachments": {},
   "cell_type": "markdown",
   "metadata": {},
   "source": [
    "`gender female paling banyak bertransaksi`"
   ]
  },
  {
   "cell_type": "code",
   "execution_count": 102,
   "metadata": {},
   "outputs": [
    {
     "data": {
      "text/html": [
       "<div>\n",
       "<style scoped>\n",
       "    .dataframe tbody tr th:only-of-type {\n",
       "        vertical-align: middle;\n",
       "    }\n",
       "\n",
       "    .dataframe tbody tr th {\n",
       "        vertical-align: top;\n",
       "    }\n",
       "\n",
       "    .dataframe thead th {\n",
       "        text-align: right;\n",
       "    }\n",
       "</style>\n",
       "<table border=\"1\" class=\"dataframe\">\n",
       "  <thead>\n",
       "    <tr style=\"text-align: right;\">\n",
       "      <th></th>\n",
       "      <th>gender</th>\n",
       "      <th>category</th>\n",
       "      <th>quantity</th>\n",
       "      <th>income</th>\n",
       "    </tr>\n",
       "  </thead>\n",
       "  <tbody>\n",
       "    <tr>\n",
       "      <th>0</th>\n",
       "      <td>Female</td>\n",
       "      <td>Clothing</td>\n",
       "      <td>62039</td>\n",
       "      <td>68251695.60</td>\n",
       "    </tr>\n",
       "    <tr>\n",
       "      <th>1</th>\n",
       "      <td>Male</td>\n",
       "      <td>Clothing</td>\n",
       "      <td>41519</td>\n",
       "      <td>45745095.44</td>\n",
       "    </tr>\n",
       "    <tr>\n",
       "      <th>2</th>\n",
       "      <td>Female</td>\n",
       "      <td>Shoes</td>\n",
       "      <td>17906</td>\n",
       "      <td>39425167.30</td>\n",
       "    </tr>\n",
       "    <tr>\n",
       "      <th>3</th>\n",
       "      <td>Female</td>\n",
       "      <td>Technology</td>\n",
       "      <td>8977</td>\n",
       "      <td>34669950.00</td>\n",
       "    </tr>\n",
       "    <tr>\n",
       "      <th>4</th>\n",
       "      <td>Male</td>\n",
       "      <td>Shoes</td>\n",
       "      <td>12311</td>\n",
       "      <td>27128284.17</td>\n",
       "    </tr>\n",
       "    <tr>\n",
       "      <th>5</th>\n",
       "      <td>Male</td>\n",
       "      <td>Technology</td>\n",
       "      <td>6044</td>\n",
       "      <td>23192400.00</td>\n",
       "    </tr>\n",
       "    <tr>\n",
       "      <th>6</th>\n",
       "      <td>Female</td>\n",
       "      <td>Cosmetics</td>\n",
       "      <td>27261</td>\n",
       "      <td>4066772.54</td>\n",
       "    </tr>\n",
       "    <tr>\n",
       "      <th>7</th>\n",
       "      <td>Male</td>\n",
       "      <td>Cosmetics</td>\n",
       "      <td>18204</td>\n",
       "      <td>2726090.36</td>\n",
       "    </tr>\n",
       "    <tr>\n",
       "      <th>8</th>\n",
       "      <td>Female</td>\n",
       "      <td>Toys</td>\n",
       "      <td>18362</td>\n",
       "      <td>2416046.08</td>\n",
       "    </tr>\n",
       "    <tr>\n",
       "      <th>9</th>\n",
       "      <td>Male</td>\n",
       "      <td>Toys</td>\n",
       "      <td>11959</td>\n",
       "      <td>1564380.16</td>\n",
       "    </tr>\n",
       "    <tr>\n",
       "      <th>10</th>\n",
       "      <td>Female</td>\n",
       "      <td>Food &amp; Beverage</td>\n",
       "      <td>26362</td>\n",
       "      <td>505322.60</td>\n",
       "    </tr>\n",
       "    <tr>\n",
       "      <th>11</th>\n",
       "      <td>Female</td>\n",
       "      <td>Books</td>\n",
       "      <td>8776</td>\n",
       "      <td>489314.70</td>\n",
       "    </tr>\n",
       "    <tr>\n",
       "      <th>12</th>\n",
       "      <td>Female</td>\n",
       "      <td>Souvenir</td>\n",
       "      <td>8976</td>\n",
       "      <td>382867.20</td>\n",
       "    </tr>\n",
       "    <tr>\n",
       "      <th>13</th>\n",
       "      <td>Male</td>\n",
       "      <td>Books</td>\n",
       "      <td>6206</td>\n",
       "      <td>345238.20</td>\n",
       "    </tr>\n",
       "    <tr>\n",
       "      <th>14</th>\n",
       "      <td>Male</td>\n",
       "      <td>Food &amp; Beverage</td>\n",
       "      <td>17915</td>\n",
       "      <td>344212.45</td>\n",
       "    </tr>\n",
       "    <tr>\n",
       "      <th>15</th>\n",
       "      <td>Male</td>\n",
       "      <td>Souvenir</td>\n",
       "      <td>5895</td>\n",
       "      <td>252957.45</td>\n",
       "    </tr>\n",
       "  </tbody>\n",
       "</table>\n",
       "</div>"
      ],
      "text/plain": [
       "    gender         category  quantity       income\n",
       "0   Female         Clothing     62039  68251695.60\n",
       "1     Male         Clothing     41519  45745095.44\n",
       "2   Female            Shoes     17906  39425167.30\n",
       "3   Female       Technology      8977  34669950.00\n",
       "4     Male            Shoes     12311  27128284.17\n",
       "5     Male       Technology      6044  23192400.00\n",
       "6   Female        Cosmetics     27261   4066772.54\n",
       "7     Male        Cosmetics     18204   2726090.36\n",
       "8   Female             Toys     18362   2416046.08\n",
       "9     Male             Toys     11959   1564380.16\n",
       "10  Female  Food & Beverage     26362    505322.60\n",
       "11  Female            Books      8776    489314.70\n",
       "12  Female         Souvenir      8976    382867.20\n",
       "13    Male            Books      6206    345238.20\n",
       "14    Male  Food & Beverage     17915    344212.45\n",
       "15    Male         Souvenir      5895    252957.45"
      ]
     },
     "execution_count": 102,
     "metadata": {},
     "output_type": "execute_result"
    }
   ],
   "source": [
    "# category yang paling banyak dibeli\n",
    "df_cat = df.groupby(['gender','category'])[['quantity','income']].sum().sort_values(by='income', ascending=False).reset_index()\n",
    "df_cat"
   ]
  },
  {
   "cell_type": "code",
   "execution_count": 103,
   "metadata": {},
   "outputs": [
    {
     "data": {
      "text/html": [
       "<div>\n",
       "<style scoped>\n",
       "    .dataframe tbody tr th:only-of-type {\n",
       "        vertical-align: middle;\n",
       "    }\n",
       "\n",
       "    .dataframe tbody tr th {\n",
       "        vertical-align: top;\n",
       "    }\n",
       "\n",
       "    .dataframe thead th {\n",
       "        text-align: right;\n",
       "    }\n",
       "</style>\n",
       "<table border=\"1\" class=\"dataframe\">\n",
       "  <thead>\n",
       "    <tr style=\"text-align: right;\">\n",
       "      <th></th>\n",
       "      <th>gender</th>\n",
       "      <th>category</th>\n",
       "      <th>quantity</th>\n",
       "      <th>income</th>\n",
       "    </tr>\n",
       "  </thead>\n",
       "  <tbody>\n",
       "    <tr>\n",
       "      <th>0</th>\n",
       "      <td>Female</td>\n",
       "      <td>Clothing</td>\n",
       "      <td>62039</td>\n",
       "      <td>68251695.60</td>\n",
       "    </tr>\n",
       "    <tr>\n",
       "      <th>2</th>\n",
       "      <td>Female</td>\n",
       "      <td>Shoes</td>\n",
       "      <td>17906</td>\n",
       "      <td>39425167.30</td>\n",
       "    </tr>\n",
       "    <tr>\n",
       "      <th>3</th>\n",
       "      <td>Female</td>\n",
       "      <td>Technology</td>\n",
       "      <td>8977</td>\n",
       "      <td>34669950.00</td>\n",
       "    </tr>\n",
       "    <tr>\n",
       "      <th>6</th>\n",
       "      <td>Female</td>\n",
       "      <td>Cosmetics</td>\n",
       "      <td>27261</td>\n",
       "      <td>4066772.54</td>\n",
       "    </tr>\n",
       "    <tr>\n",
       "      <th>8</th>\n",
       "      <td>Female</td>\n",
       "      <td>Toys</td>\n",
       "      <td>18362</td>\n",
       "      <td>2416046.08</td>\n",
       "    </tr>\n",
       "    <tr>\n",
       "      <th>10</th>\n",
       "      <td>Female</td>\n",
       "      <td>Food &amp; Beverage</td>\n",
       "      <td>26362</td>\n",
       "      <td>505322.60</td>\n",
       "    </tr>\n",
       "    <tr>\n",
       "      <th>11</th>\n",
       "      <td>Female</td>\n",
       "      <td>Books</td>\n",
       "      <td>8776</td>\n",
       "      <td>489314.70</td>\n",
       "    </tr>\n",
       "    <tr>\n",
       "      <th>12</th>\n",
       "      <td>Female</td>\n",
       "      <td>Souvenir</td>\n",
       "      <td>8976</td>\n",
       "      <td>382867.20</td>\n",
       "    </tr>\n",
       "  </tbody>\n",
       "</table>\n",
       "</div>"
      ],
      "text/plain": [
       "    gender         category  quantity       income\n",
       "0   Female         Clothing     62039  68251695.60\n",
       "2   Female            Shoes     17906  39425167.30\n",
       "3   Female       Technology      8977  34669950.00\n",
       "6   Female        Cosmetics     27261   4066772.54\n",
       "8   Female             Toys     18362   2416046.08\n",
       "10  Female  Food & Beverage     26362    505322.60\n",
       "11  Female            Books      8776    489314.70\n",
       "12  Female         Souvenir      8976    382867.20"
      ]
     },
     "execution_count": 103,
     "metadata": {},
     "output_type": "execute_result"
    }
   ],
   "source": [
    "df_cat[df_cat['gender']=='Female']"
   ]
  },
  {
   "cell_type": "code",
   "execution_count": 104,
   "metadata": {},
   "outputs": [
    {
     "data": {
      "image/png": "[encoded data removed]",
      "text/plain": [
       "<Figure size 1500x1000 with 2 Axes>"
      ]
     },
     "metadata": {},
     "output_type": "display_data"
    }
   ],
   "source": [
    "explode = ( 0, 0.005, 0.005, 0.1, 0.2, 0.3, 0.4, 0.5)\n",
    "colors = ['#191970', '#001CF0', '#0038E2', '#0055D4', '#0071C6', '#008DB8', '#00AAAA',\n",
    "          '#00C69C']\n",
    "\n",
    "fig, axes = plt.subplots(ncols=2,figsize=(15,10))\n",
    "\n",
    "axes[0].pie(df_cat[df_cat['gender']=='Female'].income, labels = df_cat[df_cat['gender']=='Female'].category, autopct='%.5f%%'\n",
    "       ,colors=colors, explode=explode)\n",
    "axes[0].set_title('Diagram Female')\n",
    "axes[1].pie(df_cat[df_cat['gender']=='Male'].income, labels = df_cat[df_cat['gender']=='Male'].category, autopct='%.5f%%'\n",
    "       ,colors=colors, explode=explode)\n",
    "axes[1].set_title('Diagram Male')\n",
    "plt.legend(df_cat[df_cat['gender']=='Female'].category, loc=\"best\")\n",
    "plt.show()"
   ]
  },
  {
   "attachments": {},
   "cell_type": "markdown",
   "metadata": {},
   "source": [
    "Untuk semua costomer, paling banyak income didapat dari category **clothing**."
   ]
  },
  {
   "attachments": {},
   "cell_type": "markdown",
   "metadata": {},
   "source": [
    "#### Analisis Measure central tendency (mean, median dan modus)"
   ]
  },
  {
   "cell_type": "code",
   "execution_count": 105,
   "metadata": {},
   "outputs": [],
   "source": [
    "# fungsi modus\n",
    "def modus(df):\n",
    "    '''Function for calculate modus\n",
    "    |parameter dataframe\n",
    "    |show modus columns if unique value less than 15.\n",
    "    '''\n",
    "    col_names=[col for col in df.columns if df[col].dtype == \"object\"]\n",
    "    \n",
    "    for col in col_names:\n",
    "    \n",
    "        if df[col].nunique() < 15:\n",
    "            print(df[col].mode())\n",
    "            print(\"--\"*10)"
   ]
  },
  {
   "cell_type": "code",
   "execution_count": 106,
   "metadata": {},
   "outputs": [],
   "source": [
    "# fungsi menghitung rata-rata\n",
    "def rata_rata(df):\n",
    "    '''function for calculate mean for numerik columns \n",
    "    |parameter dataframe\n",
    "    |show mean of columns'''\n",
    "\n",
    "    col_names=[col for col in df.columns if df[col].dtype == \"int64\" or df[col].dtype == \"float64\"]\n",
    "    for col in col_names:\n",
    "        if(col != 'quartal'): #kolom quartal tidak dihitung\n",
    "            print(f'mean of {col} is {df[col].mean()}')\n",
    "            print(f'median of {col} is {df[col].median()}')\n",
    "            print(\"--\"*15)"
   ]
  },
  {
   "cell_type": "code",
   "execution_count": 107,
   "metadata": {},
   "outputs": [
    {
     "name": "stdout",
     "output_type": "stream",
     "text": [
      "0    Female\n",
      "Name: gender, dtype: object\n",
      "--------------------\n",
      "0    Clothing\n",
      "Name: category, dtype: object\n",
      "--------------------\n",
      "0    Cash\n",
      "Name: payment_method, dtype: object\n",
      "--------------------\n",
      "0    Mall of Istanbul\n",
      "Name: shopping_mall, dtype: object\n",
      "--------------------\n",
      "0    middle\n",
      "Name: age_category, dtype: object\n",
      "--------------------\n",
      "0    Monday\n",
      "Name: day, dtype: object\n",
      "--------------------\n"
     ]
    }
   ],
   "source": [
    "# melihat modus dari shopping mall, gender, age, category dan payment method\n",
    "modus(df)"
   ]
  },
  {
   "attachments": {},
   "cell_type": "markdown",
   "metadata": {},
   "source": [
    "Modus :\n",
    "1. kategori usia yang paling banyak melakukan transaksi adalah **middle** yaitu usia 31 - 50.\n",
    "2. Mall yang paling banyak terjadinya transaksi adalah **mall of istanbull**.\n",
    "3. Metode pembayaran yang paling banyak digunakan adalah **Cash**.\n",
    "4. Kategori yang paling sering dibeli adalah **Clothing**.\n",
    "5. **Perempuan** merupakan makhluk yang paling banyak bertransaksi."
   ]
  },
  {
   "cell_type": "code",
   "execution_count": 108,
   "metadata": {},
   "outputs": [
    {
     "name": "stdout",
     "output_type": "stream",
     "text": [
      "mean of age is 43.42708909377922\n",
      "median of age is 43.0\n",
      "------------------------------\n",
      "mean of quantity is 3.003428617392441\n",
      "median of quantity is 3.0\n",
      "------------------------------\n",
      "mean of price is 689.2563209226097\n",
      "median of price is 203.3\n",
      "------------------------------\n",
      "mean of income is 2528.78926822647\n",
      "median of income is 600.17\n",
      "------------------------------\n",
      "mean of year is 2021.6294076837225\n",
      "median of year is 2022.0\n",
      "------------------------------\n",
      "mean of month is 6.2801713303236575\n",
      "median of month is 6.0\n",
      "------------------------------\n"
     ]
    }
   ],
   "source": [
    "rata_rata(df)"
   ]
  },
  {
   "attachments": {},
   "cell_type": "markdown",
   "metadata": {},
   "source": [
    "mean :\n",
    "1. rata-rata usia yang bertransaksi adalah 43 tahun.\n",
    "2. rata-rata per transaksi membeli 3 item.\n",
    "3. rata-rata harga belanja tiap transaksi adalah $689.26\n",
    "4. rata-rata pendapatan tiap transaksi adalah $2528.79\n",
    "\n",
    "median:\n",
    "1. median untuk age, quantity hampir sama.\n",
    "2. median untuk price dan income sangat jauh.\n",
    "\n",
    "kesimpulan :\n",
    "Kemungkinan data `tidak terdistribusi secara normal`. Lets check it!!"
   ]
  },
  {
   "attachments": {},
   "cell_type": "markdown",
   "metadata": {},
   "source": [
    "#### Analisis Outliers dan Skewness"
   ]
  },
  {
   "cell_type": "code",
   "execution_count": 109,
   "metadata": {},
   "outputs": [
    {
     "data": {
      "image/png": "[encoded data removed]",
      "text/plain": [
       "<Figure size 1000x800 with 1 Axes>"
      ]
     },
     "metadata": {},
     "output_type": "display_data"
    }
   ],
   "source": [
    "# Display Box Plot of price\n",
    "\n",
    "%matplotlib inline\n",
    "from matplotlib import pyplot as plt\n",
    "\n",
    "\n",
    "# Plot a box-whisker chart\n",
    "df['price'].plot(kind='box', title=\"Price Distribution\", figsize=(10,8))\n",
    "plt.show()"
   ]
  },
  {
   "attachments": {},
   "cell_type": "markdown",
   "metadata": {},
   "source": [
    "ada outliers yang terdeteksi dari box plot tersebut."
   ]
  },
  {
   "cell_type": "code",
   "execution_count": 110,
   "metadata": {},
   "outputs": [
    {
     "name": "stdout",
     "output_type": "stream",
     "text": [
      "price skewness: 2.2474332910339436\n",
      "price kurtosis: 6.168350065474848\n"
     ]
    },
    {
     "data": {
      "image/png": "[encoded data removed]",
      "text/plain": [
       "<Figure size 640x480 with 1 Axes>"
      ]
     },
     "metadata": {},
     "output_type": "display_data"
    }
   ],
   "source": [
    "# menghitung skewness\n",
    "numcols = ['price']\n",
    "for col in numcols:\n",
    "    print(df[col].name + ' skewness: ' + str(df[col].skew()))\n",
    "    print(df[col].name + ' kurtosis: ' + str(df[col].kurt()))\n",
    "    density = stats.gaussian_kde(df[col])\n",
    "    n, x, _ = plt.hist(df[col], histtype='step', bins=25)  \n",
    "    plt.plot(x, density(x)*6)\n",
    "    plt.show()"
   ]
  },
  {
   "attachments": {},
   "cell_type": "markdown",
   "metadata": {},
   "source": [
    "skewness > 1 ini termasuk right - highly skewed."
   ]
  },
  {
   "attachments": {},
   "cell_type": "markdown",
   "metadata": {},
   "source": [
    "##### Hitung outliers dengan Tukey's rule"
   ]
  },
  {
   "cell_type": "code",
   "execution_count": 111,
   "metadata": {},
   "outputs": [
    {
     "name": "stdout",
     "output_type": "stream",
     "text": [
      "45.45 203.3 1200.32\n"
     ]
    }
   ],
   "source": [
    "# menghitung nilai quartile\n",
    "q1,q2,q3 = df['price'].quantile([0.25, 0.5, 0.75])\n",
    "print(q1,q2,q3)"
   ]
  },
  {
   "cell_type": "code",
   "execution_count": 112,
   "metadata": {},
   "outputs": [
    {
     "name": "stdout",
     "output_type": "stream",
     "text": [
      "-3419.16 4664.929999999999\n"
     ]
    }
   ],
   "source": [
    "# menghitung upper boundary for extreme skewed\n",
    "IQR = q3-q1\n",
    "upper_boundary = q3 + (3 * IQR)\n",
    "lower_boundary = q1 - (3 * IQR)\n",
    "print(lower_boundary, upper_boundary)"
   ]
  },
  {
   "cell_type": "code",
   "execution_count": 113,
   "metadata": {},
   "outputs": [
    {
     "data": {
      "text/plain": [
       "array(['Technology'], dtype=object)"
      ]
     },
     "execution_count": 113,
     "metadata": {},
     "output_type": "execute_result"
    }
   ],
   "source": [
    "# ambil index load_weight yang lebih besar dari upper_boundary atau lebih kecil dari lower_boundary\n",
    "filtered_values = df[(df['price'] > upper_boundary) | (df['price'] < lower_boundary)].index\n",
    "\n",
    "# cek unique value dari category\n",
    "df.iloc[filtered_values].category.unique()"
   ]
  },
  {
   "cell_type": "code",
   "execution_count": 114,
   "metadata": {},
   "outputs": [
    {
     "data": {
      "text/plain": [
       "array([5250.])"
      ]
     },
     "execution_count": 114,
     "metadata": {},
     "output_type": "execute_result"
    }
   ],
   "source": [
    "# cek unique value dari harga\n",
    "df.iloc[filtered_values].price.unique()"
   ]
  },
  {
   "attachments": {},
   "cell_type": "markdown",
   "metadata": {},
   "source": [
    "Dilihat dari kategori yang terindikasi sebagai outliers semuanya termasuk 'Technology' dengan harga yang sama. Oleh karena itu price dan income bukanlah anomaly. Sehingga tidak bisa di drop.\\\n",
    "`Maka distribusi data memang tidak normal.` So lets make summarization with Tukey-5 Number Summary."
   ]
  },
  {
   "attachments": {},
   "cell_type": "markdown",
   "metadata": {},
   "source": [
    "Tukey- 5 Number Summary :\n",
    "1. Highest value\n",
    "2. Lowest value\n",
    "3. 1st quartile\n",
    "4. 2nd quartile (median)\n",
    "5. 3rd quartile"
   ]
  },
  {
   "cell_type": "code",
   "execution_count": 115,
   "metadata": {},
   "outputs": [
    {
     "data": {
      "text/plain": [
       "26250.0"
      ]
     },
     "execution_count": 115,
     "metadata": {},
     "output_type": "execute_result"
    }
   ],
   "source": [
    "# highest value of income\n",
    "df['income'].max()"
   ]
  },
  {
   "cell_type": "code",
   "execution_count": 116,
   "metadata": {},
   "outputs": [
    {
     "data": {
      "text/plain": [
       "5.23"
      ]
     },
     "execution_count": 116,
     "metadata": {},
     "output_type": "execute_result"
    }
   ],
   "source": [
    "# lowest value of income\n",
    "df['income'].min()"
   ]
  },
  {
   "cell_type": "code",
   "execution_count": 117,
   "metadata": {},
   "outputs": [
    {
     "name": "stdout",
     "output_type": "stream",
     "text": [
      "Q1 = 136.35000000000002\n",
      "Q2 = 600.17\n",
      "Q3 = 2700.7200000000003\n"
     ]
    }
   ],
   "source": [
    "# 1st,2nd and 3rd quartile\n",
    "q1,q2,q3 = df['income'].quantile([0.25, 0.5, 0.75])\n",
    "print(f'Q1 = {q1}\\nQ2 = {q2}\\nQ3 = {q3}')"
   ]
  },
  {
   "cell_type": "code",
   "execution_count": 118,
   "metadata": {},
   "outputs": [
    {
     "data": {
      "text/plain": [
       "2564.3700000000003"
      ]
     },
     "execution_count": 118,
     "metadata": {},
     "output_type": "execute_result"
    }
   ],
   "source": [
    "q3-q1"
   ]
  },
  {
   "attachments": {},
   "cell_type": "markdown",
   "metadata": {},
   "source": [
    "1. Pendapatan maximum adalah $26250\n",
    "2. pendapatan minimum adalah $5.23\n",
    "3. setengah pendapatan dari sampel berada diatas Q2 yaitu diatas 600.17 dan setengahnya berada dibawah 600.17.\n",
    "4. Rentang interkuartil antara 136.35 - 2700.72. Setengah pendapatan berada dalam rentang ini. 25% < 136.35 dan 25% > 2700.72.  \n",
    "5. Melihat skewness dengan membandingkan median dengan Q1 dan Q3. Median lebih dekat ke Q1 right-skewed. Median lebih dekat ke Q3 left skewed. `Maka data ini memang right-skewed.`"
   ]
  },
  {
   "attachments": {},
   "cell_type": "markdown",
   "metadata": {},
   "source": [
    "#### Hypothesis Analysis"
   ]
  },
  {
   "cell_type": "code",
   "execution_count": 119,
   "metadata": {},
   "outputs": [
    {
     "data": {
      "text/plain": [
       "year\n",
       "2021    2524.361434\n",
       "2022    2534.232269\n",
       "2023    2523.276581\n",
       "Name: income, dtype: float64"
      ]
     },
     "execution_count": 119,
     "metadata": {},
     "output_type": "execute_result"
    }
   ],
   "source": [
    "#melihat rata-rata pendapatan setiap tahun\n",
    "df.groupby('year')['income'].mean()"
   ]
  },
  {
   "attachments": {},
   "cell_type": "markdown",
   "metadata": {},
   "source": [
    "Akan dilakukan pengecekan dengan hypothesis testing antara tahun 2021 dan 2023 karena keduanya memiliki mean yang tidak jauh berbeda.\\\n",
    "Namun apakah mereka significantly different ?\n",
    "*Lets prove it!* menggunakan **t-test : two samples Independent Two Tailed Hypothesis Testing**\\\n",
    "Test ini menggunakan independent karena pendapatan tahun 2021 tidak mempengaruhi tahun 2023.\\\n",
    "Mean pendapatan 2021 = $2524.361434\\\n",
    "Mean pendapatan 2023 = $2523.276581\n",
    "\n",
    "Hypothesis :\n",
    "\n",
    "**H0: μ0 == μ1**\n",
    "\n",
    "**H1: μ0 != μ1**"
   ]
  },
  {
   "cell_type": "code",
   "execution_count": 120,
   "metadata": {},
   "outputs": [],
   "source": [
    "# memisahkan data tahun 2021 dan 2023\n",
    "df_2021  = df[df['year']  == 2021].groupby('month')[['income']].sum().sort_values(by='month').reset_index()\n",
    "df_2023  = df[df['year'] == 2023].groupby('month')[['income']].sum().sort_values(by='month').reset_index()\n",
    "df_2021.set_index('month',inplace=True)\n",
    "df_2023.set_index('month',inplace=True)"
   ]
  },
  {
   "cell_type": "code",
   "execution_count": 121,
   "metadata": {},
   "outputs": [
    {
     "name": "stdout",
     "output_type": "stream",
     "text": [
      "P-value: 5.461449066679514e-11\n",
      "t-statistics: 11.802803736780975\n"
     ]
    }
   ],
   "source": [
    "from scipy import stats\n",
    "t_stat, p_val = stats.ttest_ind(df_2021,df_2023)\n",
    "print('P-value:',p_val[0]) #the p-value isn't divided by 2 since the output is two-sided p-value\n",
    "print('t-statistics:',t_stat[0])"
   ]
  },
  {
   "attachments": {},
   "cell_type": "markdown",
   "metadata": {},
   "source": [
    "p_value < alpha\\\n",
    "Ini menunjukan bahwa **H0 rejected** yang berarti rata-rata pendapatan tahun 2021 __significantly different__ dengan 2023.\n",
    "\n",
    "Hal ini terbukti dengan analisis problem yang dilakukan sebelumnya bahwa 2023 mengalami penurunan pendapatan yang signifikan."
   ]
  },
  {
   "attachments": {},
   "cell_type": "markdown",
   "metadata": {},
   "source": [
    "#### SAVE DATAFRAME"
   ]
  },
  {
   "cell_type": "code",
   "execution_count": 150,
   "metadata": {},
   "outputs": [
    {
     "data": {
      "text/html": [
       "<div>\n",
       "<style scoped>\n",
       "    .dataframe tbody tr th:only-of-type {\n",
       "        vertical-align: middle;\n",
       "    }\n",
       "\n",
       "    .dataframe tbody tr th {\n",
       "        vertical-align: top;\n",
       "    }\n",
       "\n",
       "    .dataframe thead th {\n",
       "        text-align: right;\n",
       "    }\n",
       "</style>\n",
       "<table border=\"1\" class=\"dataframe\">\n",
       "  <thead>\n",
       "    <tr style=\"text-align: right;\">\n",
       "      <th></th>\n",
       "      <th>invoice_no</th>\n",
       "      <th>customer_id</th>\n",
       "      <th>gender</th>\n",
       "      <th>age</th>\n",
       "      <th>category</th>\n",
       "      <th>quantity</th>\n",
       "      <th>price</th>\n",
       "      <th>payment_method</th>\n",
       "      <th>invoice_date</th>\n",
       "      <th>shopping_mall</th>\n",
       "      <th>income</th>\n",
       "      <th>age_category</th>\n",
       "      <th>year</th>\n",
       "      <th>month</th>\n",
       "      <th>day</th>\n",
       "    </tr>\n",
       "  </thead>\n",
       "  <tbody>\n",
       "    <tr>\n",
       "      <th>0</th>\n",
       "      <td>I138884</td>\n",
       "      <td>C241288</td>\n",
       "      <td>Female</td>\n",
       "      <td>28</td>\n",
       "      <td>Clothing</td>\n",
       "      <td>5</td>\n",
       "      <td>1500.40</td>\n",
       "      <td>Credit Card</td>\n",
       "      <td>2022-05-08</td>\n",
       "      <td>Kanyon</td>\n",
       "      <td>7502.00</td>\n",
       "      <td>young</td>\n",
       "      <td>2022</td>\n",
       "      <td>5</td>\n",
       "      <td>Sunday</td>\n",
       "    </tr>\n",
       "    <tr>\n",
       "      <th>1</th>\n",
       "      <td>I317333</td>\n",
       "      <td>C111565</td>\n",
       "      <td>Male</td>\n",
       "      <td>21</td>\n",
       "      <td>Shoes</td>\n",
       "      <td>3</td>\n",
       "      <td>1800.51</td>\n",
       "      <td>Debit Card</td>\n",
       "      <td>2021-12-12</td>\n",
       "      <td>Forum Istanbul</td>\n",
       "      <td>5401.53</td>\n",
       "      <td>young</td>\n",
       "      <td>2021</td>\n",
       "      <td>12</td>\n",
       "      <td>Sunday</td>\n",
       "    </tr>\n",
       "    <tr>\n",
       "      <th>2</th>\n",
       "      <td>I127801</td>\n",
       "      <td>C266599</td>\n",
       "      <td>Male</td>\n",
       "      <td>20</td>\n",
       "      <td>Clothing</td>\n",
       "      <td>1</td>\n",
       "      <td>300.08</td>\n",
       "      <td>Cash</td>\n",
       "      <td>2021-09-11</td>\n",
       "      <td>Metrocity</td>\n",
       "      <td>300.08</td>\n",
       "      <td>young</td>\n",
       "      <td>2021</td>\n",
       "      <td>9</td>\n",
       "      <td>Saturday</td>\n",
       "    </tr>\n",
       "    <tr>\n",
       "      <th>3</th>\n",
       "      <td>I173702</td>\n",
       "      <td>C988172</td>\n",
       "      <td>Female</td>\n",
       "      <td>66</td>\n",
       "      <td>Shoes</td>\n",
       "      <td>5</td>\n",
       "      <td>3000.85</td>\n",
       "      <td>Credit Card</td>\n",
       "      <td>2021-05-16</td>\n",
       "      <td>Metropol AVM</td>\n",
       "      <td>15004.25</td>\n",
       "      <td>old</td>\n",
       "      <td>2021</td>\n",
       "      <td>5</td>\n",
       "      <td>Sunday</td>\n",
       "    </tr>\n",
       "    <tr>\n",
       "      <th>4</th>\n",
       "      <td>I337046</td>\n",
       "      <td>C189076</td>\n",
       "      <td>Female</td>\n",
       "      <td>53</td>\n",
       "      <td>Books</td>\n",
       "      <td>4</td>\n",
       "      <td>60.60</td>\n",
       "      <td>Cash</td>\n",
       "      <td>2021-10-24</td>\n",
       "      <td>Kanyon</td>\n",
       "      <td>242.40</td>\n",
       "      <td>old</td>\n",
       "      <td>2021</td>\n",
       "      <td>10</td>\n",
       "      <td>Sunday</td>\n",
       "    </tr>\n",
       "  </tbody>\n",
       "</table>\n",
       "</div>"
      ],
      "text/plain": [
       "  invoice_no customer_id  gender  age  category  quantity    price  \\\n",
       "0    I138884     C241288  Female   28  Clothing         5  1500.40   \n",
       "1    I317333     C111565    Male   21     Shoes         3  1800.51   \n",
       "2    I127801     C266599    Male   20  Clothing         1   300.08   \n",
       "3    I173702     C988172  Female   66     Shoes         5  3000.85   \n",
       "4    I337046     C189076  Female   53     Books         4    60.60   \n",
       "\n",
       "  payment_method invoice_date   shopping_mall    income age_category  year  \\\n",
       "0    Credit Card   2022-05-08          Kanyon   7502.00        young  2022   \n",
       "1     Debit Card   2021-12-12  Forum Istanbul   5401.53        young  2021   \n",
       "2           Cash   2021-09-11       Metrocity    300.08        young  2021   \n",
       "3    Credit Card   2021-05-16    Metropol AVM  15004.25          old  2021   \n",
       "4           Cash   2021-10-24          Kanyon    242.40          old  2021   \n",
       "\n",
       "   month       day  \n",
       "0      5    Sunday  \n",
       "1     12    Sunday  \n",
       "2      9  Saturday  \n",
       "3      5    Sunday  \n",
       "4     10    Sunday  "
      ]
     },
     "execution_count": 150,
     "metadata": {},
     "output_type": "execute_result"
    }
   ],
   "source": [
    "df.head()"
   ]
  },
  {
   "cell_type": "code",
   "execution_count": 152,
   "metadata": {},
   "outputs": [],
   "source": [
    "# saving the dataframe\n",
    "df.to_csv('Customer_Shopping_Data_cici-yuriza.csv', header=True, index=False)"
   ]
  },
  {
   "attachments": {},
   "cell_type": "markdown",
   "metadata": {},
   "source": [
    "### Conclusion and Overall Analysis\n",
    "\n",
    "1. Tahun yang paling banyak pendapatan adalah 2022.\n",
    "2. Tahun yang paling sedikit pendapatan adalah 2023.\n",
    "2. Mall yang paling banyak pendapatan adalah Mall of Istanbul.\n",
    "3. Bulan yang paling banyak pendapatan adalah Januari.\n",
    "4. Hari yang paling banyak pendapatan adalah Monday(Senin).\n",
    "5. Category paling banyak pendapatan adalah clothing, shoes dan technology.\n",
    "6. Usia middle (30-50) paling banyak melakukan transaksi.\n",
    "7. Metode pembayaran Cash yang paling diminati.\n",
    "8. Distribusi data termasuk highly right-skewed.\n",
    "9. Mean pendapatan 2021 hampir sama dengan mean pendapatan 2023 namun rata-rata keduanya `significantly different`.\n",
    "\n",
    "Insight :\\\n",
    "Tim marketing dapat memasang iklan untuk mendapatkan maksimum income adalah pada hari Senin.\\\n",
    "Tim penjualan dapat memperbanyak category clothing, shoes dan technology.\\\n",
    "Tim dapat memaksimalkan semuanya(iklan dan category) untuk Mall of Istanbull dan Kanyon.\n",
    "\n",
    "Perusahaan menargetkan 100% kenaikan pendapatan pada 2024. Apabila ditinjau dari tahun 2023 maka untuk mencapai 100% dari rata-rata pendapatan 2021-2023 agak sedikit terlihat tidak bisa karena terjadi penurunan pendapatan yang signifikan pada tahun 2023. Namun Apabila 100% dari tahun 2023 dengan memanfaatkan insight-insight yang didapatkan maka kemungkinan besar akan tercapai.\n",
    "\n"
   ]
  },
  {
   "attachments": {},
   "cell_type": "markdown",
   "metadata": {},
   "source": [
    "#### Visualization Dashboards\n",
    "\n",
    "Link : https://public.tableau.com/views/customer_shopping_Data/Dashboard1?:language=en-US&publish=yes&:display_count=n&:origin=viz_share_link"
   ]
  }
 ],
 "metadata": {
  "kernelspec": {
   "display_name": "base",
   "language": "python",
   "name": "python3"
  },
  "language_info": {
   "codemirror_mode": {
    "name": "ipython",
    "version": 3
   },
   "file_extension": ".py",
   "mimetype": "text/x-python",
   "name": "python",
   "nbconvert_exporter": "python",
   "pygments_lexer": "ipython3",
   "version": "3.9.16"
  },
  "orig_nbformat": 4
 },
 "nbformat": 4,
 "nbformat_minor": 2
}
